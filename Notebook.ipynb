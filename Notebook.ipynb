{
 "cells": [
  {
   "cell_type": "markdown",
   "metadata": {},
   "source": [
    "# Introducción"
   ]
  },
  {
   "cell_type": "markdown",
   "metadata": {},
   "source": [
    "Se ha recibido una tarea analítica de una tienda en línea internacional. no se ha conseguido completarla: se lanzó una prueba A/B y luego se abandonó (para iniciar una granja de sandías en Brasil). Solo se dejaron las especificaciones técnicas y los resultados de las pruebas.\n",
    "\n",
    "__Descripción técnica:__\n",
    "- __Nombre de la prueba:__ recommender_system_test\n",
    "- __Grupos:__ А (control), B (nuevo embudo de pago)\n",
    "- __Fecha de lanzamiento:__ 2020-12-07\n",
    "- __Fecha en la que dejaron de aceptar nuevos usuarios:__ 2020-12-21\n",
    "- __Fecha de finalización:__ 2021-01-01\n",
    "- __Audiencia:__ 15% de los nuevos usuarios de la región de la UE\n",
    "- __Propósito de la prueba:__ probar cambios relacionados con la introducción de un sistema de recomendaciones mejorado\n",
    "- __Resultado esperado:__ dentro de los 14 días posteriores a la inscripción, los usuarios mostrarán una mejor conversión en vistas de la página del producto (el evento product_page), instancias de agregar artículos al carrito de compras (product_cart) y compras (purchase). En cada etapa del embudo product_page → product_cart → purchase, habrá al menos un 10% de aumento.\n",
    "- __Número previsto de participantes de la prueba:__ 6 000"
   ]
  },
  {
   "cell_type": "markdown",
   "metadata": {},
   "source": [
    "# Descripción de los datos"
   ]
  },
  {
   "cell_type": "markdown",
   "metadata": {},
   "source": [
    "Se proporcionan cuatro datasets dara desarrollar las pruebas.\n",
    "\n",
    "`ab_project__marketing_events_us.csv`, el calendario de eventos de marketing para 2020.\n",
    "- `name` — el nombre del evento de marketing\n",
    "- `regions` — regiones donde se llevará a cabo la campaña publicitaria\n",
    "- `start_dt` — fecha de inicio de la campaña\n",
    "- `finish_dt` — fecha de finalización de la campaña\n",
    "\n",
    "`final_ab_new_users_upd_us.csv`,  todos los usuarios que se registraron en la tienda en línea desde el 7 hasta el 21 de diciembre de 2020.\n",
    "- `user_id`\n",
    "- `first_date` — fecha de inscripción\n",
    "- `region`\n",
    "- `device` — dispositivo utilizado para la inscripción\n",
    "\n",
    "`final_ab_events_upd_us.csv`,  todos los eventos de los nuevos usuarios en el período comprendido entre el 7 de diciembre de 2020 y el 1 de enero de 2021:\n",
    "- `user_id`\n",
    "- `event_dt` — fecha y hora del evento\n",
    "- `event_name` — nombre del tipo de evento\n",
    "- `details` — datos adicionales sobre el evento (por ejemplo, el pedido total en USD para los eventos purchase)\n",
    "\n",
    "`final_ab_participants_upd_us.csv`, tabla con los datos de los participantes de la prueba:\n",
    "- `user_id`\n",
    "- `ab_test` — nombre de la prueba\n",
    "- `group` — el grupo de prueba al que pertenecía el usuario"
   ]
  },
  {
   "cell_type": "markdown",
   "metadata": {},
   "source": [
    "# Pauta de trabajo"
   ]
  },
  {
   "cell_type": "markdown",
   "metadata": {},
   "source": [
    "Este informe estará dividido en cuatro partes, cada una de ellas tendrá diferentos objetivos:\n",
    "\n",
    "__Preanálisis:__ Etapa en la cual se cargan los datos y se optimizan en caso de ser necesario, se trabajan los valores duplicados y ausentes, y finalmente, se modifican los datos para facilitar el posterior análisis.\n",
    "Describe los objetivos del estudio.\n",
    "- ¿Es necesario convertir los tipos?\n",
    "- ¿Hay valores ausentes o duplicados? Si es así, ¿cómo se caracterizarían?\n",
    "\n",
    "__Análisis exploratorio de datos:__ En esta fase se estudiarán las diferentes variables y la calidad de los datos para el desarrollo de una prueba A/B.\n",
    "- Estudiar la conversión en las diferentes etapas del embudo.\n",
    "- ¿El número de eventos por usuario está distribuido equitativamente entre las muestras?\n",
    "- ¿Hay usuarios que están presentes en ambas muestras?\n",
    "- ¿Cómo se distribuye el número de eventos entre los días?\n",
    "- ¿Hay alguna peculiaridad en los datos que hay que tener en cuenta antes de iniciar la prueba A/B?\n",
    "\n",
    "__Evaluar los resultados de la prueba A/B:__ Una vez determinada la calidad de los datos, se realizan las pruebas estadísticas para determinar si se cumplen los objetivos.\n",
    "- Utilizar una prueba z para comprobar la diferencia estadística entre las proporciones.\n",
    "- ¿Qué se puede concluir sobre los resultados de la prueba A/B?\n",
    "\n",
    "__Conclusiones:__ Se presentarán las conclusiones con respecto a la etapa EDA y los resultados de la prueba A/B."
   ]
  },
  {
   "cell_type": "markdown",
   "metadata": {},
   "source": [
    "## Preanálisis"
   ]
  },
  {
   "cell_type": "markdown",
   "metadata": {},
   "source": [
    "Se da inicio al proyecto."
   ]
  },
  {
   "cell_type": "markdown",
   "metadata": {},
   "source": [
    "### Importación de librerías"
   ]
  },
  {
   "cell_type": "markdown",
   "metadata": {},
   "source": [
    "Se importan todas las librerías necesarias para el análisis, pruebas estadísticas y visualizaciones de datos."
   ]
  },
  {
   "cell_type": "code",
   "execution_count": 1,
   "metadata": {},
   "outputs": [],
   "source": [
    "import pandas as pd\n",
    "import numpy as np\n",
    "import matplotlib.pyplot as plt\n",
    "import seaborn as sns\n",
    "from scipy import stats as st \n",
    "import math as mt\n",
    "import datetime as dt\n",
    "from plotly import graph_objects as go"
   ]
  },
  {
   "cell_type": "markdown",
   "metadata": {},
   "source": [
    "### Carga de datos"
   ]
  },
  {
   "cell_type": "markdown",
   "metadata": {},
   "source": [
    "Una vez importadas las librerías, se cargan los datasets proporcionados cuidando la optimización de espacio para trabajar de manera más fluída."
   ]
  },
  {
   "cell_type": "code",
   "execution_count": 2,
   "metadata": {},
   "outputs": [],
   "source": [
    "pm_events = pd.read_csv('/datasets/ab_project_marketing_events_us.csv', parse_dates=['start_dt', 'finish_dt'])\n",
    "new_users = pd.read_csv('/datasets/final_ab_new_users_upd_us.csv', parse_dates=['first_date'], dtype={'region' : 'category', 'device' : 'category'})\n",
    "ab_events = pd.read_csv('/datasets/final_ab_events_upd_us.csv', parse_dates=['event_dt'], dtype={'event_name' : 'category'})\n",
    "ab_participants = pd.read_csv('/datasets/final_ab_participants_upd_us.csv')"
   ]
  },
  {
   "cell_type": "markdown",
   "metadata": {},
   "source": [
    "### Previsualización de datos"
   ]
  },
  {
   "cell_type": "markdown",
   "metadata": {},
   "source": [
    "Se le dará una primera revisión la los datos, para observar que los tipos de datos estén correctos y si es que hay valores ausentes."
   ]
  },
  {
   "cell_type": "code",
   "execution_count": 3,
   "metadata": {},
   "outputs": [
    {
     "name": "stdout",
     "output_type": "stream",
     "text": [
      "<class 'pandas.core.frame.DataFrame'>\n",
      "RangeIndex: 14 entries, 0 to 13\n",
      "Data columns (total 4 columns):\n",
      " #   Column     Non-Null Count  Dtype         \n",
      "---  ------     --------------  -----         \n",
      " 0   name       14 non-null     object        \n",
      " 1   regions    14 non-null     object        \n",
      " 2   start_dt   14 non-null     datetime64[ns]\n",
      " 3   finish_dt  14 non-null     datetime64[ns]\n",
      "dtypes: datetime64[ns](2), object(2)\n",
      "memory usage: 576.0+ bytes\n"
     ]
    },
    {
     "data": {
      "text/html": [
       "<div>\n",
       "<style scoped>\n",
       "    .dataframe tbody tr th:only-of-type {\n",
       "        vertical-align: middle;\n",
       "    }\n",
       "\n",
       "    .dataframe tbody tr th {\n",
       "        vertical-align: top;\n",
       "    }\n",
       "\n",
       "    .dataframe thead th {\n",
       "        text-align: right;\n",
       "    }\n",
       "</style>\n",
       "<table border=\"1\" class=\"dataframe\">\n",
       "  <thead>\n",
       "    <tr style=\"text-align: right;\">\n",
       "      <th></th>\n",
       "      <th>name</th>\n",
       "      <th>regions</th>\n",
       "      <th>start_dt</th>\n",
       "      <th>finish_dt</th>\n",
       "    </tr>\n",
       "  </thead>\n",
       "  <tbody>\n",
       "    <tr>\n",
       "      <th>0</th>\n",
       "      <td>Christmas&amp;New Year Promo</td>\n",
       "      <td>EU, N.America</td>\n",
       "      <td>2020-12-25</td>\n",
       "      <td>2021-01-03</td>\n",
       "    </tr>\n",
       "    <tr>\n",
       "      <th>1</th>\n",
       "      <td>St. Valentine's Day Giveaway</td>\n",
       "      <td>EU, CIS, APAC, N.America</td>\n",
       "      <td>2020-02-14</td>\n",
       "      <td>2020-02-16</td>\n",
       "    </tr>\n",
       "    <tr>\n",
       "      <th>2</th>\n",
       "      <td>St. Patric's Day Promo</td>\n",
       "      <td>EU, N.America</td>\n",
       "      <td>2020-03-17</td>\n",
       "      <td>2020-03-19</td>\n",
       "    </tr>\n",
       "    <tr>\n",
       "      <th>3</th>\n",
       "      <td>Easter Promo</td>\n",
       "      <td>EU, CIS, APAC, N.America</td>\n",
       "      <td>2020-04-12</td>\n",
       "      <td>2020-04-19</td>\n",
       "    </tr>\n",
       "    <tr>\n",
       "      <th>4</th>\n",
       "      <td>4th of July Promo</td>\n",
       "      <td>N.America</td>\n",
       "      <td>2020-07-04</td>\n",
       "      <td>2020-07-11</td>\n",
       "    </tr>\n",
       "    <tr>\n",
       "      <th>5</th>\n",
       "      <td>Black Friday Ads Campaign</td>\n",
       "      <td>EU, CIS, APAC, N.America</td>\n",
       "      <td>2020-11-26</td>\n",
       "      <td>2020-12-01</td>\n",
       "    </tr>\n",
       "    <tr>\n",
       "      <th>6</th>\n",
       "      <td>Chinese New Year Promo</td>\n",
       "      <td>APAC</td>\n",
       "      <td>2020-01-25</td>\n",
       "      <td>2020-02-07</td>\n",
       "    </tr>\n",
       "    <tr>\n",
       "      <th>7</th>\n",
       "      <td>Labor day (May 1st) Ads Campaign</td>\n",
       "      <td>EU, CIS, APAC</td>\n",
       "      <td>2020-05-01</td>\n",
       "      <td>2020-05-03</td>\n",
       "    </tr>\n",
       "    <tr>\n",
       "      <th>8</th>\n",
       "      <td>International Women's Day Promo</td>\n",
       "      <td>EU, CIS, APAC</td>\n",
       "      <td>2020-03-08</td>\n",
       "      <td>2020-03-10</td>\n",
       "    </tr>\n",
       "    <tr>\n",
       "      <th>9</th>\n",
       "      <td>Victory Day CIS (May 9th) Event</td>\n",
       "      <td>CIS</td>\n",
       "      <td>2020-05-09</td>\n",
       "      <td>2020-05-11</td>\n",
       "    </tr>\n",
       "    <tr>\n",
       "      <th>10</th>\n",
       "      <td>CIS New Year Gift Lottery</td>\n",
       "      <td>CIS</td>\n",
       "      <td>2020-12-30</td>\n",
       "      <td>2021-01-07</td>\n",
       "    </tr>\n",
       "    <tr>\n",
       "      <th>11</th>\n",
       "      <td>Dragon Boat Festival Giveaway</td>\n",
       "      <td>APAC</td>\n",
       "      <td>2020-06-25</td>\n",
       "      <td>2020-07-01</td>\n",
       "    </tr>\n",
       "    <tr>\n",
       "      <th>12</th>\n",
       "      <td>Single's Day Gift Promo</td>\n",
       "      <td>APAC</td>\n",
       "      <td>2020-11-11</td>\n",
       "      <td>2020-11-12</td>\n",
       "    </tr>\n",
       "    <tr>\n",
       "      <th>13</th>\n",
       "      <td>Chinese Moon Festival</td>\n",
       "      <td>APAC</td>\n",
       "      <td>2020-10-01</td>\n",
       "      <td>2020-10-07</td>\n",
       "    </tr>\n",
       "  </tbody>\n",
       "</table>\n",
       "</div>"
      ],
      "text/plain": [
       "                                name                   regions   start_dt  \\\n",
       "0           Christmas&New Year Promo             EU, N.America 2020-12-25   \n",
       "1       St. Valentine's Day Giveaway  EU, CIS, APAC, N.America 2020-02-14   \n",
       "2             St. Patric's Day Promo             EU, N.America 2020-03-17   \n",
       "3                       Easter Promo  EU, CIS, APAC, N.America 2020-04-12   \n",
       "4                  4th of July Promo                 N.America 2020-07-04   \n",
       "5          Black Friday Ads Campaign  EU, CIS, APAC, N.America 2020-11-26   \n",
       "6             Chinese New Year Promo                      APAC 2020-01-25   \n",
       "7   Labor day (May 1st) Ads Campaign             EU, CIS, APAC 2020-05-01   \n",
       "8    International Women's Day Promo             EU, CIS, APAC 2020-03-08   \n",
       "9    Victory Day CIS (May 9th) Event                       CIS 2020-05-09   \n",
       "10         CIS New Year Gift Lottery                       CIS 2020-12-30   \n",
       "11     Dragon Boat Festival Giveaway                      APAC 2020-06-25   \n",
       "12           Single's Day Gift Promo                      APAC 2020-11-11   \n",
       "13             Chinese Moon Festival                      APAC 2020-10-01   \n",
       "\n",
       "    finish_dt  \n",
       "0  2021-01-03  \n",
       "1  2020-02-16  \n",
       "2  2020-03-19  \n",
       "3  2020-04-19  \n",
       "4  2020-07-11  \n",
       "5  2020-12-01  \n",
       "6  2020-02-07  \n",
       "7  2020-05-03  \n",
       "8  2020-03-10  \n",
       "9  2020-05-11  \n",
       "10 2021-01-07  \n",
       "11 2020-07-01  \n",
       "12 2020-11-12  \n",
       "13 2020-10-07  "
      ]
     },
     "execution_count": 3,
     "metadata": {},
     "output_type": "execute_result"
    }
   ],
   "source": [
    "pm_events.info()\n",
    "pm_events"
   ]
  },
  {
   "cell_type": "markdown",
   "metadata": {},
   "source": [
    "En `pm_events` no se observa nada fuera de lugar, continuamos con el siguiente dataset."
   ]
  },
  {
   "cell_type": "code",
   "execution_count": 4,
   "metadata": {},
   "outputs": [
    {
     "name": "stdout",
     "output_type": "stream",
     "text": [
      "<class 'pandas.core.frame.DataFrame'>\n",
      "RangeIndex: 58703 entries, 0 to 58702\n",
      "Data columns (total 4 columns):\n",
      " #   Column      Non-Null Count  Dtype         \n",
      "---  ------      --------------  -----         \n",
      " 0   user_id     58703 non-null  object        \n",
      " 1   first_date  58703 non-null  datetime64[ns]\n",
      " 2   region      58703 non-null  category      \n",
      " 3   device      58703 non-null  category      \n",
      "dtypes: category(2), datetime64[ns](1), object(1)\n",
      "memory usage: 1.0+ MB\n"
     ]
    },
    {
     "data": {
      "text/html": [
       "<div>\n",
       "<style scoped>\n",
       "    .dataframe tbody tr th:only-of-type {\n",
       "        vertical-align: middle;\n",
       "    }\n",
       "\n",
       "    .dataframe tbody tr th {\n",
       "        vertical-align: top;\n",
       "    }\n",
       "\n",
       "    .dataframe thead th {\n",
       "        text-align: right;\n",
       "    }\n",
       "</style>\n",
       "<table border=\"1\" class=\"dataframe\">\n",
       "  <thead>\n",
       "    <tr style=\"text-align: right;\">\n",
       "      <th></th>\n",
       "      <th>user_id</th>\n",
       "      <th>first_date</th>\n",
       "      <th>region</th>\n",
       "      <th>device</th>\n",
       "    </tr>\n",
       "  </thead>\n",
       "  <tbody>\n",
       "    <tr>\n",
       "      <th>0</th>\n",
       "      <td>D72A72121175D8BE</td>\n",
       "      <td>2020-12-07</td>\n",
       "      <td>EU</td>\n",
       "      <td>PC</td>\n",
       "    </tr>\n",
       "    <tr>\n",
       "      <th>1</th>\n",
       "      <td>F1C668619DFE6E65</td>\n",
       "      <td>2020-12-07</td>\n",
       "      <td>N.America</td>\n",
       "      <td>Android</td>\n",
       "    </tr>\n",
       "    <tr>\n",
       "      <th>2</th>\n",
       "      <td>2E1BF1D4C37EA01F</td>\n",
       "      <td>2020-12-07</td>\n",
       "      <td>EU</td>\n",
       "      <td>PC</td>\n",
       "    </tr>\n",
       "    <tr>\n",
       "      <th>3</th>\n",
       "      <td>50734A22C0C63768</td>\n",
       "      <td>2020-12-07</td>\n",
       "      <td>EU</td>\n",
       "      <td>iPhone</td>\n",
       "    </tr>\n",
       "    <tr>\n",
       "      <th>4</th>\n",
       "      <td>E1BDDCE0DAFA2679</td>\n",
       "      <td>2020-12-07</td>\n",
       "      <td>N.America</td>\n",
       "      <td>iPhone</td>\n",
       "    </tr>\n",
       "  </tbody>\n",
       "</table>\n",
       "</div>"
      ],
      "text/plain": [
       "            user_id first_date     region   device\n",
       "0  D72A72121175D8BE 2020-12-07         EU       PC\n",
       "1  F1C668619DFE6E65 2020-12-07  N.America  Android\n",
       "2  2E1BF1D4C37EA01F 2020-12-07         EU       PC\n",
       "3  50734A22C0C63768 2020-12-07         EU   iPhone\n",
       "4  E1BDDCE0DAFA2679 2020-12-07  N.America   iPhone"
      ]
     },
     "execution_count": 4,
     "metadata": {},
     "output_type": "execute_result"
    }
   ],
   "source": [
    "new_users.info()\n",
    "new_users.head()"
   ]
  },
  {
   "cell_type": "markdown",
   "metadata": {},
   "source": [
    "En `new_users` tampoco se observan tipos de datos erróneos ni valores ausentes, continuamos con el siguiente conjunto de datos."
   ]
  },
  {
   "cell_type": "code",
   "execution_count": 5,
   "metadata": {},
   "outputs": [
    {
     "name": "stdout",
     "output_type": "stream",
     "text": [
      "<class 'pandas.core.frame.DataFrame'>\n",
      "RangeIndex: 423761 entries, 0 to 423760\n",
      "Data columns (total 4 columns):\n",
      " #   Column      Non-Null Count   Dtype         \n",
      "---  ------      --------------   -----         \n",
      " 0   user_id     423761 non-null  object        \n",
      " 1   event_dt    423761 non-null  datetime64[ns]\n",
      " 2   event_name  423761 non-null  category      \n",
      " 3   details     60314 non-null   float64       \n",
      "dtypes: category(1), datetime64[ns](1), float64(1), object(1)\n",
      "memory usage: 10.1+ MB\n"
     ]
    },
    {
     "data": {
      "text/html": [
       "<div>\n",
       "<style scoped>\n",
       "    .dataframe tbody tr th:only-of-type {\n",
       "        vertical-align: middle;\n",
       "    }\n",
       "\n",
       "    .dataframe tbody tr th {\n",
       "        vertical-align: top;\n",
       "    }\n",
       "\n",
       "    .dataframe thead th {\n",
       "        text-align: right;\n",
       "    }\n",
       "</style>\n",
       "<table border=\"1\" class=\"dataframe\">\n",
       "  <thead>\n",
       "    <tr style=\"text-align: right;\">\n",
       "      <th></th>\n",
       "      <th>user_id</th>\n",
       "      <th>event_dt</th>\n",
       "      <th>event_name</th>\n",
       "      <th>details</th>\n",
       "    </tr>\n",
       "  </thead>\n",
       "  <tbody>\n",
       "    <tr>\n",
       "      <th>0</th>\n",
       "      <td>E1BDDCE0DAFA2679</td>\n",
       "      <td>2020-12-07 20:22:03</td>\n",
       "      <td>purchase</td>\n",
       "      <td>99.99</td>\n",
       "    </tr>\n",
       "    <tr>\n",
       "      <th>1</th>\n",
       "      <td>7B6452F081F49504</td>\n",
       "      <td>2020-12-07 09:22:53</td>\n",
       "      <td>purchase</td>\n",
       "      <td>9.99</td>\n",
       "    </tr>\n",
       "    <tr>\n",
       "      <th>2</th>\n",
       "      <td>9CD9F34546DF254C</td>\n",
       "      <td>2020-12-07 12:59:29</td>\n",
       "      <td>purchase</td>\n",
       "      <td>4.99</td>\n",
       "    </tr>\n",
       "    <tr>\n",
       "      <th>3</th>\n",
       "      <td>96F27A054B191457</td>\n",
       "      <td>2020-12-07 04:02:40</td>\n",
       "      <td>purchase</td>\n",
       "      <td>4.99</td>\n",
       "    </tr>\n",
       "    <tr>\n",
       "      <th>4</th>\n",
       "      <td>1FD7660FDF94CA1F</td>\n",
       "      <td>2020-12-07 10:15:09</td>\n",
       "      <td>purchase</td>\n",
       "      <td>4.99</td>\n",
       "    </tr>\n",
       "  </tbody>\n",
       "</table>\n",
       "</div>"
      ],
      "text/plain": [
       "            user_id            event_dt event_name  details\n",
       "0  E1BDDCE0DAFA2679 2020-12-07 20:22:03   purchase    99.99\n",
       "1  7B6452F081F49504 2020-12-07 09:22:53   purchase     9.99\n",
       "2  9CD9F34546DF254C 2020-12-07 12:59:29   purchase     4.99\n",
       "3  96F27A054B191457 2020-12-07 04:02:40   purchase     4.99\n",
       "4  1FD7660FDF94CA1F 2020-12-07 10:15:09   purchase     4.99"
      ]
     },
     "execution_count": 5,
     "metadata": {},
     "output_type": "execute_result"
    }
   ],
   "source": [
    "ab_events.info()\n",
    "ab_events.head()"
   ]
  },
  {
   "cell_type": "markdown",
   "metadata": {},
   "source": [
    "En este dataset se observa una gran cantidad de valores ausentes en la columna `details`, debido a que son muchos y a que es una columna de la cual se puede prescindir para un análisis de proporciones, es que no se trabajarán estos valores ausentes. Seguimos con el último dataset."
   ]
  },
  {
   "cell_type": "code",
   "execution_count": 6,
   "metadata": {},
   "outputs": [
    {
     "name": "stdout",
     "output_type": "stream",
     "text": [
      "<class 'pandas.core.frame.DataFrame'>\n",
      "RangeIndex: 14525 entries, 0 to 14524\n",
      "Data columns (total 3 columns):\n",
      " #   Column   Non-Null Count  Dtype \n",
      "---  ------   --------------  ----- \n",
      " 0   user_id  14525 non-null  object\n",
      " 1   group    14525 non-null  object\n",
      " 2   ab_test  14525 non-null  object\n",
      "dtypes: object(3)\n",
      "memory usage: 340.6+ KB\n"
     ]
    },
    {
     "data": {
      "text/html": [
       "<div>\n",
       "<style scoped>\n",
       "    .dataframe tbody tr th:only-of-type {\n",
       "        vertical-align: middle;\n",
       "    }\n",
       "\n",
       "    .dataframe tbody tr th {\n",
       "        vertical-align: top;\n",
       "    }\n",
       "\n",
       "    .dataframe thead th {\n",
       "        text-align: right;\n",
       "    }\n",
       "</style>\n",
       "<table border=\"1\" class=\"dataframe\">\n",
       "  <thead>\n",
       "    <tr style=\"text-align: right;\">\n",
       "      <th></th>\n",
       "      <th>user_id</th>\n",
       "      <th>group</th>\n",
       "      <th>ab_test</th>\n",
       "    </tr>\n",
       "  </thead>\n",
       "  <tbody>\n",
       "    <tr>\n",
       "      <th>0</th>\n",
       "      <td>D1ABA3E2887B6A73</td>\n",
       "      <td>A</td>\n",
       "      <td>recommender_system_test</td>\n",
       "    </tr>\n",
       "    <tr>\n",
       "      <th>1</th>\n",
       "      <td>A7A3664BD6242119</td>\n",
       "      <td>A</td>\n",
       "      <td>recommender_system_test</td>\n",
       "    </tr>\n",
       "    <tr>\n",
       "      <th>2</th>\n",
       "      <td>DABC14FDDFADD29E</td>\n",
       "      <td>A</td>\n",
       "      <td>recommender_system_test</td>\n",
       "    </tr>\n",
       "    <tr>\n",
       "      <th>3</th>\n",
       "      <td>04988C5DF189632E</td>\n",
       "      <td>A</td>\n",
       "      <td>recommender_system_test</td>\n",
       "    </tr>\n",
       "    <tr>\n",
       "      <th>4</th>\n",
       "      <td>4FF2998A348C484F</td>\n",
       "      <td>A</td>\n",
       "      <td>recommender_system_test</td>\n",
       "    </tr>\n",
       "  </tbody>\n",
       "</table>\n",
       "</div>"
      ],
      "text/plain": [
       "            user_id group                  ab_test\n",
       "0  D1ABA3E2887B6A73     A  recommender_system_test\n",
       "1  A7A3664BD6242119     A  recommender_system_test\n",
       "2  DABC14FDDFADD29E     A  recommender_system_test\n",
       "3  04988C5DF189632E     A  recommender_system_test\n",
       "4  4FF2998A348C484F     A  recommender_system_test"
      ]
     },
     "execution_count": 6,
     "metadata": {},
     "output_type": "execute_result"
    }
   ],
   "source": [
    "ab_participants.info()\n",
    "ab_participants.head()"
   ]
  },
  {
   "cell_type": "markdown",
   "metadata": {},
   "source": [
    "`ab_participants` no cuenta con ningún problema visible, es cierto que podría ser optimizado, pero al ser de tamaño tan reducido, no es necesario hacerlo."
   ]
  },
  {
   "cell_type": "markdown",
   "metadata": {},
   "source": [
    "### Trabajar valores duplicados"
   ]
  },
  {
   "cell_type": "markdown",
   "metadata": {},
   "source": [
    "En esta etapa se buscarán duplicados en todos los datasets y se trabajarán de la mejor manera posible."
   ]
  },
  {
   "cell_type": "code",
   "execution_count": 7,
   "metadata": {},
   "outputs": [
    {
     "name": "stdout",
     "output_type": "stream",
     "text": [
      "0\n",
      "0\n",
      "0\n",
      "0\n"
     ]
    }
   ],
   "source": [
    "print(pm_events.duplicated().sum())\n",
    "print(new_users.duplicated().sum())\n",
    "print(ab_events.duplicated().sum())\n",
    "print(ab_participants.duplicated().sum())"
   ]
  },
  {
   "cell_type": "markdown",
   "metadata": {},
   "source": [
    "No se encuentran duplicados explícitos, ahora se buscarán implícitos."
   ]
  },
  {
   "cell_type": "code",
   "execution_count": 8,
   "metadata": {},
   "outputs": [
    {
     "name": "stdout",
     "output_type": "stream",
     "text": [
      "EU           43396\n",
      "N.America     9051\n",
      "CIS           3130\n",
      "APAC          3126\n",
      "Name: region, dtype: int64\n",
      "\n",
      "Android    26159\n",
      "PC         14845\n",
      "iPhone     11902\n",
      "Mac         5797\n",
      "Name: device, dtype: int64\n"
     ]
    }
   ],
   "source": [
    "print(new_users['region'].value_counts())\n",
    "print()\n",
    "print(new_users['device'].value_counts())"
   ]
  },
  {
   "cell_type": "markdown",
   "metadata": {},
   "source": [
    "No se encuentran duplicados implícitos en `new_users`."
   ]
  },
  {
   "cell_type": "code",
   "execution_count": 9,
   "metadata": {},
   "outputs": [
    {
     "data": {
      "text/plain": [
       "login           182465\n",
       "product_page    120862\n",
       "purchase         60314\n",
       "product_cart     60120\n",
       "Name: event_name, dtype: int64"
      ]
     },
     "execution_count": 9,
     "metadata": {},
     "output_type": "execute_result"
    }
   ],
   "source": [
    "ab_events['event_name'].value_counts()"
   ]
  },
  {
   "cell_type": "markdown",
   "metadata": {},
   "source": [
    "Tampoco se encuentran en `ab_events`."
   ]
  },
  {
   "cell_type": "markdown",
   "metadata": {},
   "source": [
    "## Análisis exploratorio de datos"
   ]
  },
  {
   "cell_type": "markdown",
   "metadata": {},
   "source": [
    "En esta etapa se analizará principalmente la conversión a través de las etapas del embudo y la integridad de los datos conforme al test A/B."
   ]
  },
  {
   "cell_type": "markdown",
   "metadata": {},
   "source": [
    "### Estudiar la conversión en las diferentes etapas del embudo"
   ]
  },
  {
   "cell_type": "markdown",
   "metadata": {},
   "source": [
    "Para comenzar a estudiar el embudo, primero debemos extraer los datos pertenecientes a nuestra prueba de interés. Primero agregamos toda la información en un solo dataset, para posteriormente filtrarla."
   ]
  },
  {
   "cell_type": "code",
   "execution_count": 10,
   "metadata": {},
   "outputs": [
    {
     "data": {
      "text/html": [
       "<div>\n",
       "<style scoped>\n",
       "    .dataframe tbody tr th:only-of-type {\n",
       "        vertical-align: middle;\n",
       "    }\n",
       "\n",
       "    .dataframe tbody tr th {\n",
       "        vertical-align: top;\n",
       "    }\n",
       "\n",
       "    .dataframe thead th {\n",
       "        text-align: right;\n",
       "    }\n",
       "</style>\n",
       "<table border=\"1\" class=\"dataframe\">\n",
       "  <thead>\n",
       "    <tr style=\"text-align: right;\">\n",
       "      <th></th>\n",
       "      <th>user_id</th>\n",
       "      <th>event_dt</th>\n",
       "      <th>event_name</th>\n",
       "      <th>details</th>\n",
       "      <th>group</th>\n",
       "      <th>ab_test</th>\n",
       "      <th>first_date</th>\n",
       "      <th>region</th>\n",
       "      <th>device</th>\n",
       "    </tr>\n",
       "  </thead>\n",
       "  <tbody>\n",
       "    <tr>\n",
       "      <th>0</th>\n",
       "      <td>96F27A054B191457</td>\n",
       "      <td>2020-12-07 04:02:40</td>\n",
       "      <td>purchase</td>\n",
       "      <td>4.99</td>\n",
       "      <td>B</td>\n",
       "      <td>interface_eu_test</td>\n",
       "      <td>2020-12-07</td>\n",
       "      <td>EU</td>\n",
       "      <td>iPhone</td>\n",
       "    </tr>\n",
       "    <tr>\n",
       "      <th>1</th>\n",
       "      <td>96F27A054B191457</td>\n",
       "      <td>2020-12-08 09:43:14</td>\n",
       "      <td>purchase</td>\n",
       "      <td>4.99</td>\n",
       "      <td>B</td>\n",
       "      <td>interface_eu_test</td>\n",
       "      <td>2020-12-07</td>\n",
       "      <td>EU</td>\n",
       "      <td>iPhone</td>\n",
       "    </tr>\n",
       "    <tr>\n",
       "      <th>2</th>\n",
       "      <td>96F27A054B191457</td>\n",
       "      <td>2020-12-09 00:44:10</td>\n",
       "      <td>purchase</td>\n",
       "      <td>4.99</td>\n",
       "      <td>B</td>\n",
       "      <td>interface_eu_test</td>\n",
       "      <td>2020-12-07</td>\n",
       "      <td>EU</td>\n",
       "      <td>iPhone</td>\n",
       "    </tr>\n",
       "    <tr>\n",
       "      <th>3</th>\n",
       "      <td>96F27A054B191457</td>\n",
       "      <td>2020-12-26 00:33:57</td>\n",
       "      <td>purchase</td>\n",
       "      <td>9.99</td>\n",
       "      <td>B</td>\n",
       "      <td>interface_eu_test</td>\n",
       "      <td>2020-12-07</td>\n",
       "      <td>EU</td>\n",
       "      <td>iPhone</td>\n",
       "    </tr>\n",
       "    <tr>\n",
       "      <th>4</th>\n",
       "      <td>96F27A054B191457</td>\n",
       "      <td>2020-12-07 04:02:41</td>\n",
       "      <td>product_page</td>\n",
       "      <td>NaN</td>\n",
       "      <td>B</td>\n",
       "      <td>interface_eu_test</td>\n",
       "      <td>2020-12-07</td>\n",
       "      <td>EU</td>\n",
       "      <td>iPhone</td>\n",
       "    </tr>\n",
       "  </tbody>\n",
       "</table>\n",
       "</div>"
      ],
      "text/plain": [
       "            user_id            event_dt    event_name  details group  \\\n",
       "0  96F27A054B191457 2020-12-07 04:02:40      purchase     4.99     B   \n",
       "1  96F27A054B191457 2020-12-08 09:43:14      purchase     4.99     B   \n",
       "2  96F27A054B191457 2020-12-09 00:44:10      purchase     4.99     B   \n",
       "3  96F27A054B191457 2020-12-26 00:33:57      purchase     9.99     B   \n",
       "4  96F27A054B191457 2020-12-07 04:02:41  product_page      NaN     B   \n",
       "\n",
       "             ab_test first_date region  device  \n",
       "0  interface_eu_test 2020-12-07     EU  iPhone  \n",
       "1  interface_eu_test 2020-12-07     EU  iPhone  \n",
       "2  interface_eu_test 2020-12-07     EU  iPhone  \n",
       "3  interface_eu_test 2020-12-07     EU  iPhone  \n",
       "4  interface_eu_test 2020-12-07     EU  iPhone  "
      ]
     },
     "execution_count": 10,
     "metadata": {},
     "output_type": "execute_result"
    }
   ],
   "source": [
    "events = ab_events.merge(ab_participants, on='user_id')\n",
    "events = events.merge(new_users, on='user_id')\n",
    "events.head()"
   ]
  },
  {
   "cell_type": "markdown",
   "metadata": {},
   "source": [
    "Una vez tenemos toda la información reunida, procedemos a filtrar por:\n",
    "- __Nombre de prueba:__ `recommender_system_test`.\n",
    "- __Región:__ `EU`.\n",
    "- __Días desde el registro:__ `14`.\n",
    "\n",
    "Que son los datos relevantes para el desarrollo de la prueba."
   ]
  },
  {
   "cell_type": "code",
   "execution_count": 11,
   "metadata": {},
   "outputs": [
    {
     "data": {
      "text/html": [
       "<div>\n",
       "<style scoped>\n",
       "    .dataframe tbody tr th:only-of-type {\n",
       "        vertical-align: middle;\n",
       "    }\n",
       "\n",
       "    .dataframe tbody tr th {\n",
       "        vertical-align: top;\n",
       "    }\n",
       "\n",
       "    .dataframe thead th {\n",
       "        text-align: right;\n",
       "    }\n",
       "</style>\n",
       "<table border=\"1\" class=\"dataframe\">\n",
       "  <thead>\n",
       "    <tr style=\"text-align: right;\">\n",
       "      <th></th>\n",
       "      <th>user_id</th>\n",
       "      <th>event_dt</th>\n",
       "      <th>event_name</th>\n",
       "      <th>details</th>\n",
       "      <th>group</th>\n",
       "      <th>ab_test</th>\n",
       "      <th>first_date</th>\n",
       "      <th>region</th>\n",
       "      <th>device</th>\n",
       "      <th>days_since_reg</th>\n",
       "    </tr>\n",
       "  </thead>\n",
       "  <tbody>\n",
       "    <tr>\n",
       "      <th>12</th>\n",
       "      <td>831887FE7F2D6CBA</td>\n",
       "      <td>2020-12-07 06:50:29</td>\n",
       "      <td>purchase</td>\n",
       "      <td>4.99</td>\n",
       "      <td>A</td>\n",
       "      <td>recommender_system_test</td>\n",
       "      <td>2020-12-07</td>\n",
       "      <td>EU</td>\n",
       "      <td>Android</td>\n",
       "      <td>0</td>\n",
       "    </tr>\n",
       "    <tr>\n",
       "      <th>13</th>\n",
       "      <td>831887FE7F2D6CBA</td>\n",
       "      <td>2020-12-09 02:19:17</td>\n",
       "      <td>purchase</td>\n",
       "      <td>99.99</td>\n",
       "      <td>A</td>\n",
       "      <td>recommender_system_test</td>\n",
       "      <td>2020-12-07</td>\n",
       "      <td>EU</td>\n",
       "      <td>Android</td>\n",
       "      <td>2</td>\n",
       "    </tr>\n",
       "    <tr>\n",
       "      <th>14</th>\n",
       "      <td>831887FE7F2D6CBA</td>\n",
       "      <td>2020-12-07 06:50:30</td>\n",
       "      <td>product_cart</td>\n",
       "      <td>NaN</td>\n",
       "      <td>A</td>\n",
       "      <td>recommender_system_test</td>\n",
       "      <td>2020-12-07</td>\n",
       "      <td>EU</td>\n",
       "      <td>Android</td>\n",
       "      <td>0</td>\n",
       "    </tr>\n",
       "    <tr>\n",
       "      <th>15</th>\n",
       "      <td>831887FE7F2D6CBA</td>\n",
       "      <td>2020-12-08 10:52:27</td>\n",
       "      <td>product_cart</td>\n",
       "      <td>NaN</td>\n",
       "      <td>A</td>\n",
       "      <td>recommender_system_test</td>\n",
       "      <td>2020-12-07</td>\n",
       "      <td>EU</td>\n",
       "      <td>Android</td>\n",
       "      <td>1</td>\n",
       "    </tr>\n",
       "    <tr>\n",
       "      <th>16</th>\n",
       "      <td>831887FE7F2D6CBA</td>\n",
       "      <td>2020-12-09 02:19:17</td>\n",
       "      <td>product_cart</td>\n",
       "      <td>NaN</td>\n",
       "      <td>A</td>\n",
       "      <td>recommender_system_test</td>\n",
       "      <td>2020-12-07</td>\n",
       "      <td>EU</td>\n",
       "      <td>Android</td>\n",
       "      <td>2</td>\n",
       "    </tr>\n",
       "  </tbody>\n",
       "</table>\n",
       "</div>"
      ],
      "text/plain": [
       "             user_id            event_dt    event_name  details group  \\\n",
       "12  831887FE7F2D6CBA 2020-12-07 06:50:29      purchase     4.99     A   \n",
       "13  831887FE7F2D6CBA 2020-12-09 02:19:17      purchase    99.99     A   \n",
       "14  831887FE7F2D6CBA 2020-12-07 06:50:30  product_cart      NaN     A   \n",
       "15  831887FE7F2D6CBA 2020-12-08 10:52:27  product_cart      NaN     A   \n",
       "16  831887FE7F2D6CBA 2020-12-09 02:19:17  product_cart      NaN     A   \n",
       "\n",
       "                    ab_test first_date region   device  days_since_reg  \n",
       "12  recommender_system_test 2020-12-07     EU  Android               0  \n",
       "13  recommender_system_test 2020-12-07     EU  Android               2  \n",
       "14  recommender_system_test 2020-12-07     EU  Android               0  \n",
       "15  recommender_system_test 2020-12-07     EU  Android               1  \n",
       "16  recommender_system_test 2020-12-07     EU  Android               2  "
      ]
     },
     "execution_count": 11,
     "metadata": {},
     "output_type": "execute_result"
    }
   ],
   "source": [
    "events = events[(events['ab_test'] == 'recommender_system_test') & (events['region'] == 'EU')]\n",
    "events['days_since_reg'] = (events['event_dt'] - events['first_date']).dt.days\n",
    "events = events[events['days_since_reg'] <= 14]\n",
    "events.head()"
   ]
  },
  {
   "cell_type": "markdown",
   "metadata": {},
   "source": [
    "Una vez filtrado el dataset, podemos desglosar el embudo."
   ]
  },
  {
   "cell_type": "code",
   "execution_count": 12,
   "metadata": {},
   "outputs": [
    {
     "data": {
      "text/html": [
       "<div>\n",
       "<style scoped>\n",
       "    .dataframe tbody tr th:only-of-type {\n",
       "        vertical-align: middle;\n",
       "    }\n",
       "\n",
       "    .dataframe tbody tr th {\n",
       "        vertical-align: top;\n",
       "    }\n",
       "\n",
       "    .dataframe thead th {\n",
       "        text-align: right;\n",
       "    }\n",
       "</style>\n",
       "<table border=\"1\" class=\"dataframe\">\n",
       "  <thead>\n",
       "    <tr style=\"text-align: right;\">\n",
       "      <th></th>\n",
       "      <th>event_name</th>\n",
       "      <th>user_id</th>\n",
       "    </tr>\n",
       "  </thead>\n",
       "  <tbody>\n",
       "    <tr>\n",
       "      <th>0</th>\n",
       "      <td>login</td>\n",
       "      <td>3480</td>\n",
       "    </tr>\n",
       "    <tr>\n",
       "      <th>1</th>\n",
       "      <td>product_page</td>\n",
       "      <td>2178</td>\n",
       "    </tr>\n",
       "    <tr>\n",
       "      <th>2</th>\n",
       "      <td>purchase</td>\n",
       "      <td>1082</td>\n",
       "    </tr>\n",
       "    <tr>\n",
       "      <th>3</th>\n",
       "      <td>product_cart</td>\n",
       "      <td>1026</td>\n",
       "    </tr>\n",
       "  </tbody>\n",
       "</table>\n",
       "</div>"
      ],
      "text/plain": [
       "     event_name  user_id\n",
       "0         login     3480\n",
       "1  product_page     2178\n",
       "2      purchase     1082\n",
       "3  product_cart     1026"
      ]
     },
     "execution_count": 12,
     "metadata": {},
     "output_type": "execute_result"
    }
   ],
   "source": [
    "funnel = events.groupby('event_name')['user_id'].nunique().sort_values(ascending=False).reset_index()\n",
    "funnel"
   ]
  },
  {
   "cell_type": "markdown",
   "metadata": {},
   "source": [
    "Usando estos datos, construiremos una visualización que nos permita analizar de mejor manera el embudo. Si observamos bien, nos daremos cuenta que por el evento `product_cart` han pasado menos clientes que por el evento `purchase`, esto quiere decir que en esta web __el carrito de producto es algo opcional y se puede comprar sin pasar por él__."
   ]
  },
  {
   "cell_type": "code",
   "execution_count": 13,
   "metadata": {
    "scrolled": false
   },
   "outputs": [],
   "source": [
    "fig = go.Figure(go.Funnel(\n",
    "    meta = funnel,\n",
    "    y = funnel['event_name'],\n",
    "    x = funnel['user_id'],\n",
    "    textposition = \"inside\",\n",
    "    textinfo = \"value+percent previous+percent initial\"\n",
    "    ))\n",
    "\n",
    "plt.close()"
   ]
  },
  {
   "cell_type": "markdown",
   "metadata": {},
   "source": [
    "(Se adjunta una foto debido a que la librería `Figure` de gráficos interactivos, necesita tener el kernel funcionando para mostrar la visualización, debido a eso, una imagen adjunta es más práctico.)"
   ]
  },
  {
   "attachments": {
    "newplot%20%281%29.png": {
     "image/png": "[encoded data removed]"
    }
   },
   "cell_type": "markdown",
   "metadata": {},
   "source": [
    "![newplot%20%281%29.png](attachment:newplot%20%281%29.png)"
   ]
  },
  {
   "cell_type": "markdown",
   "metadata": {},
   "source": [
    "En en embudo se puede observar que en la etapa donde más se pierden clientes es en __la transición de página de producto a la compra__ (un 50%). Ahora, trazaremos el mismo gráfico de embudo, pero dividido por grupos, para lo cual, primero, debemos crear un dataset con la información general de cada grupo."
   ]
  },
  {
   "cell_type": "code",
   "execution_count": 14,
   "metadata": {},
   "outputs": [],
   "source": [
    "A = events[events['group'] == 'A'].groupby('event_name')['user_id'].nunique().sort_values(ascending=False).reset_index()\n",
    "B = events[events['group'] == 'B'].groupby('event_name')['user_id'].nunique().sort_values(ascending=False).reset_index()"
   ]
  },
  {
   "cell_type": "markdown",
   "metadata": {},
   "source": [
    "Una vez listos los datasets, podemos construir el gráfico."
   ]
  },
  {
   "cell_type": "code",
   "execution_count": 15,
   "metadata": {},
   "outputs": [],
   "source": [
    "fig = go.Figure()\n",
    "\n",
    "fig.add_trace(go.Funnel(\n",
    "    name = 'A',\n",
    "    meta = A,\n",
    "    y = A['event_name'],\n",
    "    x = A['user_id'],\n",
    "    textposition = \"inside\",\n",
    "    textinfo = \"value+percent previous+percent initial\"\n",
    "    ))\n",
    "\n",
    "fig.add_trace(go.Funnel(\n",
    "    name = 'B',\n",
    "    meta = B,\n",
    "    y = B['event_name'],\n",
    "    x = B['user_id'],\n",
    "    textposition = \"inside\",\n",
    "    textinfo = \"value+percent previous+percent initial\"\n",
    "    ))\n",
    "\n",
    "plt.close()"
   ]
  },
  {
   "cell_type": "markdown",
   "metadata": {},
   "source": [
    "(Se adjunta una foto debido a que la librería `Figure` de gráficos interactivos, necesita tener el kernel funcionando para mostrar la visualización, debido a eso, una imagen adjunta es más práctico.)"
   ]
  },
  {
   "attachments": {
    "newplot%20%281%29.png": {
     "image/png": "[encoded data removed]"
    }
   },
   "cell_type": "markdown",
   "metadata": {},
   "source": [
    "![newplot%20%281%29.png](attachment:newplot%20%281%29.png)"
   ]
  },
  {
   "cell_type": "markdown",
   "metadata": {},
   "source": [
    "Respecto del gráfico, __se puede evidenciar una gran diferencia en la cantidad de usuarios registrados por grupo__, esto puede influir en los porcentajes de conversión de cada etapa, inclinando la balanza hacia el grupo con más registros, se especificarán mas adelante los valores exactos."
   ]
  },
  {
   "cell_type": "markdown",
   "metadata": {},
   "source": [
    "### ¿El número de eventos por usuario está distribuido equitativamente entre las muestras?"
   ]
  },
  {
   "cell_type": "markdown",
   "metadata": {},
   "source": [
    "Se calculará el número de eventos por usuario junto con otros datos que permiten verificar la calidad de los datos para un test A/B."
   ]
  },
  {
   "cell_type": "code",
   "execution_count": 16,
   "metadata": {},
   "outputs": [
    {
     "name": "stdout",
     "output_type": "stream",
     "text": [
      "Eventos por usuario grupo A: 6.67\n",
      "Eventos por usuario grupo B: 5.45\n"
     ]
    }
   ],
   "source": [
    "print('Eventos por usuario grupo A:', format(events[events['group'] == 'A'].groupby('user_id')['event_name'].count().mean(), '.2f'))\n",
    "print('Eventos por usuario grupo B:', format(events[events['group'] == 'B'].groupby('user_id')['event_name'].count().mean(), '.2f'))"
   ]
  },
  {
   "cell_type": "markdown",
   "metadata": {},
   "source": [
    "__El número de eventos por usuario es similar__. Si el número de participantes por grupo es similar, la prueba aún podría dar resultados fiables, por lo que se seguirá indagando en los datos."
   ]
  },
  {
   "cell_type": "code",
   "execution_count": 17,
   "metadata": {},
   "outputs": [
    {
     "name": "stdout",
     "output_type": "stream",
     "text": [
      "Total participantes registrados: 3481\n"
     ]
    }
   ],
   "source": [
    "print('Total participantes registrados:', events['user_id'].nunique())"
   ]
  },
  {
   "cell_type": "markdown",
   "metadata": {},
   "source": [
    "Se registran 3481 participantes que es __un poco más de la mitad__ de los participantes previstos (6000). Se analizará ahora el número de eventos por grupo."
   ]
  },
  {
   "cell_type": "code",
   "execution_count": 18,
   "metadata": {},
   "outputs": [
    {
     "data": {
      "image/png": "[encoded data removed]",
      "text/plain": [
       "<Figure size 640x480 with 1 Axes>"
      ]
     },
     "metadata": {},
     "output_type": "display_data"
    }
   ],
   "source": [
    "ax = events.groupby('group')['user_id'].count().plot(kind='bar', rot=0, title='Cantidad de eventos por grupo', grid='on');\n",
    "for p in ax.patches:\n",
    "    ax.annotate(str(int(p.get_height())), (p.get_x() + p.get_width() / 2., p.get_height()),\n",
    "                ha='center', va='center', xytext=(0, 5), textcoords='offset points', fontsize=8, color='blue');"
   ]
  },
  {
   "cell_type": "markdown",
   "metadata": {},
   "source": [
    "__Tenemos 3.64 veces más eventos en el grupo A que en el grupo B__, una diferecia así indica que los grupos están desbalanceados y que esto puede afectar la interpretación del experimento."
   ]
  },
  {
   "cell_type": "code",
   "execution_count": 19,
   "metadata": {},
   "outputs": [
    {
     "data": {
      "image/png": "[encoded data removed]",
      "text/plain": [
       "<Figure size 640x480 with 1 Axes>"
      ]
     },
     "metadata": {},
     "output_type": "display_data"
    }
   ],
   "source": [
    "ax = events.groupby('group')['user_id'].nunique().plot(kind='bar', rot=0, title='Cantidad de participantes por grupo', grid='on');\n",
    "for p in ax.patches:\n",
    "    ax.annotate(str(int(p.get_height())), (p.get_x() + p.get_width() / 2., p.get_height()),\n",
    "                ha='center', va='center', xytext=(0, 5), textcoords='offset points', fontsize=8, color='blue');"
   ]
  },
  {
   "cell_type": "markdown",
   "metadata": {},
   "source": [
    "__La diferencia de participantes por grupo es muy grande, la cantidad de participantes del grupo A es 2.97 veces más grande que en el grupo B__, esto constituye un problema para el desarrollo de la prueba, ya que los resultados podrían inclinarse en favor del grupo que tiene más participantes y los resultados podrían ser inválidos."
   ]
  },
  {
   "cell_type": "markdown",
   "metadata": {},
   "source": [
    "### ¿Hay usuarios que están presentes en ambas muestras?"
   ]
  },
  {
   "cell_type": "markdown",
   "metadata": {},
   "source": [
    "Mediante una prueba simple se determinará si hay o no, usuarios presentes en ambos grupos."
   ]
  },
  {
   "cell_type": "code",
   "execution_count": 20,
   "metadata": {},
   "outputs": [
    {
     "data": {
      "text/plain": [
       "0"
      ]
     },
     "execution_count": 20,
     "metadata": {},
     "output_type": "execute_result"
    }
   ],
   "source": [
    "len(pd.Series(list(set(events[events['group'] == 'A']['user_id']) &\n",
    "                   set(events[events['group'] == 'B']['user_id'])), dtype='float64'))"
   ]
  },
  {
   "cell_type": "markdown",
   "metadata": {},
   "source": [
    "__No se detectan usuarios en ambos grupos__, lo que indica que no se cometieron errores de clasificación en los grupos."
   ]
  },
  {
   "cell_type": "markdown",
   "metadata": {},
   "source": [
    "### ¿Cómo se distribuye el número de eventos entre los días?"
   ]
  },
  {
   "cell_type": "markdown",
   "metadata": {},
   "source": [
    "Para observar como se distribuyen los eventos entre los días se creará un gráfico de barras con su respectivo número de eventos por cada día registrado."
   ]
  },
  {
   "cell_type": "code",
   "execution_count": 21,
   "metadata": {},
   "outputs": [
    {
     "data": {
      "image/png": "[encoded data removed]",
      "text/plain": [
       "<Figure size 640x480 with 1 Axes>"
      ]
     },
     "metadata": {},
     "output_type": "display_data"
    }
   ],
   "source": [
    "events['date'] = events['event_dt'].dt.date\n",
    "ax = events.groupby('date')['event_name'].count().plot(kind='bar', rot=90, grid='on', title='Número de eventos registrados por día');\n",
    "for p in ax.patches:\n",
    "    ax.annotate(str(int(p.get_height())), (p.get_x() + p.get_width() / 2., p.get_height()),\n",
    "                ha='center', va='center', xytext=(0, 5), textcoords='offset points', fontsize=8, color='blue');"
   ]
  },
  {
   "cell_type": "markdown",
   "metadata": {},
   "source": [
    "Se observa que __la distribución no es pareja__, hay días con más de 1.500 eventos y días con menos de 500. La fecha seleccionada para recopilar los datos es navidad, lo cual provoca estas disparidades entre los días, al probar un nuevo sistema recomendador que funcionará todo el año, __lo mejor evitar fechas como navidad o algún evento parecido, resultaría más conveniente elegir un rango de fechas donde exista un buen flujo de clientes sin mucha variación entre los días__."
   ]
  },
  {
   "cell_type": "code",
   "execution_count": 22,
   "metadata": {},
   "outputs": [
    {
     "data": {
      "image/png": "[encoded data removed]",
      "text/plain": [
       "<Figure size 640x480 with 1 Axes>"
      ]
     },
     "metadata": {},
     "output_type": "display_data"
    }
   ],
   "source": [
    "ax = events[events['group'] == 'A'].groupby('date')['event_name'].count().plot(rot=90, grid='on', style='-o')\n",
    "events[events['group'] == 'B'].groupby('date')['event_name'].count().plot(rot=90, grid='on', style='-o')\n",
    "plt.title('Número de eventos registrados por día (división por grupos)')\n",
    "plt.legend(['A', 'B']);"
   ]
  },
  {
   "cell_type": "markdown",
   "metadata": {},
   "source": [
    "El gráfico ilustra que __hay diferencias en cuanto a la cantidad de datos de cada grupo recolectados por fecha__, mientras el grupo B se mantiene relativamente parejo a lo largo del estudio, el grupo A se dispara después del 12 de diciembre para decaer post navidad."
   ]
  },
  {
   "cell_type": "markdown",
   "metadata": {},
   "source": [
    "### ¿Hay alguna peculiaridad en los datos que hay que tener en cuenta antes de iniciar la prueba A/B?"
   ]
  },
  {
   "cell_type": "markdown",
   "metadata": {},
   "source": [
    "Recapitulando el análisis exploratorio, se encontraron los siguientes puntos a tener en cuenta sobre la calidad de los datos para el test A/B.\n",
    "- __La cantidad de usuarios del grupo A es casi tres veces más grande que la del grupo B__, esto puede inclinar los resultados de la prueba hacia el grupo A.\n",
    "- __La fecha elegida para la recolección de datos no es apropiada__, la fecha elegida para la recopilación de datos es fines de diciembre (incluyendo navidad) y en las instrucciones de la prueba no se menciona que la prueba tenga relación alguna con esta fecha, por lo cual (y por los motivos explicados en el bloque anterior) los resultados podrían verse afectados por el comportamiento \"navideño\" de los usuarios (que no es el mismo que durante el resto del año).\n",
    "- __Disparidad en el tiempo__, probablemente debido a la fecha de recolección escogida, existen disparidades en la cantidad de datos registrados por día, entre ambos grupos, esto empeora aún más las condiciones de la prueba por las razones explicadas anteriormente."
   ]
  },
  {
   "cell_type": "markdown",
   "metadata": {},
   "source": [
    "## Evaluar los resultados de la prueba A/B"
   ]
  },
  {
   "cell_type": "markdown",
   "metadata": {},
   "source": [
    "Se procederán a evaluar, mediante una prueba estadística, las diferencias entre los grupos A y B."
   ]
  },
  {
   "cell_type": "markdown",
   "metadata": {},
   "source": [
    "### Utilizar una prueba z para comprobar la diferencia estadística entre las proporciones."
   ]
  },
  {
   "cell_type": "markdown",
   "metadata": {},
   "source": [
    "Para automatizar el proceso de realizar la prueba z en las etapas del embudo, se define la siguiente función, la cual tomará como argumento el nombre del evento a comparar y devolverá una serie de datos acerca de los grupos, los valores p y si se aprueba o rechaza la hipótesis nula. El valor alpha a utilizar será de 0.05 y se aplicará la corrección de Bonferroni para disminuir las probabilidades de error."
   ]
  },
  {
   "cell_type": "code",
   "execution_count": 23,
   "metadata": {},
   "outputs": [],
   "source": [
    "def prop_test(event):\n",
    "    \n",
    "    conversions = events[['user_id', 'group']].drop_duplicates()\n",
    "    converted = pd.DataFrame(data={\"user_id\": events[events[\"event_name\"] == event][\"user_id\"].unique(), \"converted\": 1})\n",
    "    conversions = conversions.merge(converted, on=\"user_id\", how=\"left\")\n",
    "    conversions[\"converted\"] = conversions[\"converted\"].fillna(0)\n",
    "    \n",
    "    purchases = np.array([len(conversions[(conversions['group'] == 'A') & (conversions['converted'] == 1)]), \n",
    "                          len(conversions[(conversions['group'] == 'B') & (conversions['converted'] == 1)])])\n",
    "                          \n",
    "    leads = np.array([len(conversions[conversions['group'] == 'A']), \n",
    "                      len(conversions[conversions['group'] == 'B'])])\n",
    "    \n",
    "    print(event, ':', purchases)\n",
    "    print('Total :', leads)\n",
    "    \n",
    "    alpha = .05/3 #Corrección de Bonferroni\n",
    "    \n",
    "    p1 = purchases[0]/leads[0]\n",
    "    p2 = purchases[1]/leads[1]\n",
    "    p_combined = ((purchases[0] + purchases[1]) / (leads[0] + leads[1]))\n",
    "    difference = p1 - p2\n",
    "    \n",
    "    print('A:', format(p1, '.2%'), '%  ', 'B:',format(p2, '.2%'), '%.')\n",
    "\n",
    "    z_value = difference / mt.sqrt(p_combined * (1 - p_combined) * (1/leads[0] + 1/leads[1]))\n",
    "\n",
    "    distr = st.norm(0, 1) \n",
    "\n",
    "    p_value = (1 - distr.cdf(abs(z_value))) * 2\n",
    "    \n",
    "    print('p-value: ', p_value)\n",
    "\n",
    "    if (p_value < alpha):\n",
    "        print(\"Rechazar la hipótesis nula: hay una diferencia significativa entre las proporciones\")\n",
    "    else:\n",
    "        print(\"No se pudo rechazar la hipótesis nula: no hay razón para pensar que las proporciones son diferentes\")"
   ]
  },
  {
   "cell_type": "markdown",
   "metadata": {},
   "source": [
    "Una vez definida la función, solo queda comparar los diferentes eventos. empezando con \n",
    "- `product_page` La pantalla de producto."
   ]
  },
  {
   "cell_type": "code",
   "execution_count": 24,
   "metadata": {},
   "outputs": [
    {
     "name": "stdout",
     "output_type": "stream",
     "text": [
      "product_page : [1685  493]\n",
      "Total : [2604  877]\n",
      "A: 64.71% %   B: 56.21% %.\n",
      "p-value:  6.942739359416805e-06\n",
      "Rechazar la hipótesis nula: hay una diferencia significativa entre las proporciones\n"
     ]
    }
   ],
   "source": [
    "prop_test('product_page')"
   ]
  },
  {
   "cell_type": "markdown",
   "metadata": {},
   "source": [
    "Aquí __se rechaza la hipótesis nula en favor del grupo A__, que __muestra un 8,5% más de conversión que el grupo B__.\n",
    "- `product_cart` La pantalla de carrito de compras."
   ]
  },
  {
   "cell_type": "code",
   "execution_count": 25,
   "metadata": {},
   "outputs": [
    {
     "name": "stdout",
     "output_type": "stream",
     "text": [
      "product_cart : [782 244]\n",
      "Total : [2604  877]\n",
      "A: 30.03% %   B: 27.82% %.\n",
      "p-value:  0.21469192029582396\n",
      "No se pudo rechazar la hipótesis nula: no hay razón para pensar que las proporciones son diferentes\n"
     ]
    }
   ],
   "source": [
    "prop_test('product_cart')"
   ]
  },
  {
   "cell_type": "markdown",
   "metadata": {},
   "source": [
    "No se rechaza la hipótesis nula, sin embargo __el grupo A se muestra un 2.21% por encima del grupo B__ en conversión.\n",
    "- `purchase` Compra exitosa."
   ]
  },
  {
   "cell_type": "code",
   "execution_count": 26,
   "metadata": {},
   "outputs": [
    {
     "name": "stdout",
     "output_type": "stream",
     "text": [
      "purchase : [833 249]\n",
      "Total : [2604  877]\n",
      "A: 31.99% %   B: 28.39% %.\n",
      "p-value:  0.04652482738393027\n",
      "No se pudo rechazar la hipótesis nula: no hay razón para pensar que las proporciones son diferentes\n"
     ]
    }
   ],
   "source": [
    "prop_test('purchase')"
   ]
  },
  {
   "cell_type": "markdown",
   "metadata": {},
   "source": [
    "Aquí no se rechaza la hipótesis nula, sin embargo observando el valor p se puede apreciar que está muy cerca de rechazarse (si no se hubiese aplicado la corrección de Bonferroni, se habría rechazado). __El grupo A está un 3,6% arriba del grupo B__ en tasa de conversión."
   ]
  },
  {
   "cell_type": "markdown",
   "metadata": {},
   "source": [
    "### ¿Qué se puede concluir sobre los resultados de la prueba A/B?"
   ]
  },
  {
   "cell_type": "markdown",
   "metadata": {},
   "source": [
    "En base al desarrollo de la prueba se puede concluir (dejando de lado las conclusiones sobre la calidad de los datos) que __se rechaza el grupo B, ya que el requisito de aprobación es superar en un 10% la conversión en todas las etapas y no se cumplió__ (ni estuvo cerca de hacerlo)."
   ]
  },
  {
   "cell_type": "markdown",
   "metadata": {},
   "source": [
    "## Conclusiones"
   ]
  },
  {
   "cell_type": "markdown",
   "metadata": {},
   "source": [
    "En este apartado se desarollarán ampliamente todas las conclusiones obtenidas en el desarrollo del informe, haciendo hincapié en los aspectos fundamentales del trabajo, como lo son: los hallazgos sobre el registro de los datos, recomendaciones para el futuro y la resolución final del experimento."
   ]
  },
  {
   "cell_type": "markdown",
   "metadata": {},
   "source": [
    "### Hallazgos sobre el registro de los datos"
   ]
  },
  {
   "cell_type": "markdown",
   "metadata": {},
   "source": [
    "Se han encontrado problemas graves en cuanto al registro de los datos del experimento, tales como:\n",
    "\n",
    "- __Fecha de recolección:__ La fecha elegida para la recopilación de datos es fines de diciembre (incluyendo navidad) y en las instrucciones de la prueba no se menciona que la prueba tenga relación alguna con esta fecha, por lo cual (y por los motivos explicados en el bloque anterior) los resultados podrían verse afectados por el comportamiento \"navideño\" de los usuarios (que no es el mismo que durante el resto del año).\n",
    "\n",
    "- __Cantidad de usuarios por grupo:__ Se registran casi tres veces más usuarios en el grupo A que en el grupo B, este factor, por sí solo ya es suficiente para declarar la prueba como inválida, ya que al ser tan grande la diferencia entre los grupos, las proporciones pueden inclinarse seriamente en favor del grupo más grande (el grupo A).\n",
    "\n",
    "- __Sostenibilidad en el tiempo:__ Relacionado con los puntos anteriores, se observó en estos registros que la cantidad de datos por grupo varía demasiado en el tiempo de recolección, lo cual empeora las condiciones de la prueba de acuerdo con los puntos explicados anteriormente."
   ]
  },
  {
   "cell_type": "markdown",
   "metadata": {},
   "source": [
    "### Recomendaciones para el futuro"
   ]
  },
  {
   "cell_type": "markdown",
   "metadata": {},
   "source": [
    "Para evitar los problemas anteriormente mencionados, se deberían seguir los siguientes consejos:\n",
    "\n",
    "- __Fecha de recolección:__ Se debe escoger una fecha de recolección donde el flujo sea lo más estándar posble, cuidando el que haya suficientes datos para analizar, un buen ejemplo sería analizar los meses buenos y malos del negocio y lanzar la prueba en cualquier semana de la temporada buena, o analizar la última semana del mes y si los datos son parejos y considerables, proceder a lanzar la prueba.\n",
    "\n",
    "- __Cantidad de usuarios por grupo:__ Se debe configurar correctamente el embudo a nivel de anuncios (o cualquiera sea la manera que tengan los clientes de consumir en la tienda) para que la cantidad de usuarios por grupo sea lo más pareja posible, cuidando que los datos recolectados sean suficientes para ser analizados.\n",
    "\n",
    "- __Sostenibilidad en el tiempo:__ En línea con los puntos anteriores, la configuración adecuada debe mantenerse por una cantidad considerable de días (dependiendo de las necesidades del experimento)."
   ]
  },
  {
   "cell_type": "markdown",
   "metadata": {},
   "source": [
    "### Resolución final del experimento"
   ]
  },
  {
   "cell_type": "markdown",
   "metadata": {},
   "source": [
    "Una vez terminado el proyecto podemos rescatar lo siguiente:\n",
    "\n",
    "- __Resultados del test:__ Al analizar los resultados (ignorando la mala calidad de los datos), estos indican que el grupo B debe ser rechazado, ya que no se cumplen los criterios de aprobación del grupo, que son superar en un 10% la tasa de conversión del grupo A.\n",
    "\n",
    "Sin embargo, debido las malas condiciones de los datos recogidos para la prueba es que debemos concluir que:\n",
    "\n",
    "__los resultados obtenidos de esta prueba no pueden ser utilizados para la toma de decisiones de la empresa, ya que de ser usados, pueden suponer un grave perjuicio para la organización__."
   ]
  }
 ],
 "metadata": {
  "ExecuteTimeLog": [
   {
    "duration": 327,
    "start_time": "2024-09-19T00:47:50.986Z"
   },
   {
    "duration": 2481,
    "start_time": "2024-09-19T15:06:12.914Z"
   },
   {
    "duration": 12,
    "start_time": "2024-09-19T15:07:25.809Z"
   },
   {
    "duration": 434,
    "start_time": "2024-09-19T15:09:33.106Z"
   },
   {
    "duration": 11,
    "start_time": "2024-09-19T15:09:44.247Z"
   },
   {
    "duration": 7,
    "start_time": "2024-09-19T15:09:58.050Z"
   },
   {
    "duration": 14,
    "start_time": "2024-09-19T15:10:13.708Z"
   },
   {
    "duration": 21,
    "start_time": "2024-09-19T15:10:36.763Z"
   },
   {
    "duration": 17,
    "start_time": "2024-09-19T15:10:44.835Z"
   },
   {
    "duration": 42,
    "start_time": "2024-09-19T15:11:43.609Z"
   },
   {
    "duration": 48,
    "start_time": "2024-09-19T15:11:53.827Z"
   },
   {
    "duration": 13,
    "start_time": "2024-09-19T15:12:37.116Z"
   },
   {
    "duration": 331,
    "start_time": "2024-09-19T15:16:44.645Z"
   },
   {
    "duration": 349,
    "start_time": "2024-09-19T15:17:15.169Z"
   },
   {
    "duration": 376,
    "start_time": "2024-09-19T15:17:57.843Z"
   },
   {
    "duration": 809,
    "start_time": "2024-09-19T15:18:03.848Z"
   },
   {
    "duration": 407,
    "start_time": "2024-09-19T15:18:04.659Z"
   },
   {
    "duration": 17,
    "start_time": "2024-09-19T15:18:05.067Z"
   },
   {
    "duration": 19,
    "start_time": "2024-09-19T15:18:05.085Z"
   },
   {
    "duration": 64,
    "start_time": "2024-09-19T15:18:05.106Z"
   },
   {
    "duration": 14,
    "start_time": "2024-09-19T15:18:05.171Z"
   },
   {
    "duration": 392,
    "start_time": "2024-09-19T15:23:56.973Z"
   },
   {
    "duration": 377,
    "start_time": "2024-09-19T15:24:33.622Z"
   },
   {
    "duration": 808,
    "start_time": "2024-09-19T15:25:14.504Z"
   },
   {
    "duration": 386,
    "start_time": "2024-09-19T15:25:15.314Z"
   },
   {
    "duration": 19,
    "start_time": "2024-09-19T15:25:15.702Z"
   },
   {
    "duration": 18,
    "start_time": "2024-09-19T15:25:15.723Z"
   },
   {
    "duration": 44,
    "start_time": "2024-09-19T15:25:15.743Z"
   },
   {
    "duration": 11,
    "start_time": "2024-09-19T15:25:15.790Z"
   },
   {
    "duration": 100,
    "start_time": "2024-09-19T15:27:58.679Z"
   },
   {
    "duration": 100,
    "start_time": "2024-09-19T15:28:20.280Z"
   },
   {
    "duration": 5,
    "start_time": "2024-09-19T15:29:03.449Z"
   },
   {
    "duration": 7,
    "start_time": "2024-09-19T15:30:15.762Z"
   },
   {
    "duration": 5,
    "start_time": "2024-09-19T15:30:29.174Z"
   },
   {
    "duration": 5,
    "start_time": "2024-09-19T15:30:34.026Z"
   },
   {
    "duration": 621,
    "start_time": "2024-09-19T15:32:13.785Z"
   },
   {
    "duration": 6,
    "start_time": "2024-09-19T15:32:25.617Z"
   },
   {
    "duration": 14,
    "start_time": "2024-09-19T15:34:54.072Z"
   },
   {
    "duration": 67,
    "start_time": "2024-09-19T15:34:58.074Z"
   },
   {
    "duration": 66,
    "start_time": "2024-09-19T15:35:14.283Z"
   },
   {
    "duration": 61,
    "start_time": "2024-09-19T15:36:01.617Z"
   },
   {
    "duration": 59,
    "start_time": "2024-09-19T15:36:07.653Z"
   },
   {
    "duration": 64,
    "start_time": "2024-09-19T15:36:12.509Z"
   },
   {
    "duration": 21,
    "start_time": "2024-09-19T15:37:18.186Z"
   },
   {
    "duration": 11,
    "start_time": "2024-09-19T15:37:25.624Z"
   },
   {
    "duration": 13,
    "start_time": "2024-09-19T15:38:24.964Z"
   },
   {
    "duration": 12,
    "start_time": "2024-09-19T15:44:57.712Z"
   },
   {
    "duration": 10,
    "start_time": "2024-09-19T15:45:08.033Z"
   },
   {
    "duration": 13,
    "start_time": "2024-09-19T15:45:16.289Z"
   },
   {
    "duration": 13,
    "start_time": "2024-09-19T15:47:28.038Z"
   },
   {
    "duration": 14,
    "start_time": "2024-09-19T15:47:47.772Z"
   },
   {
    "duration": 12,
    "start_time": "2024-09-19T16:01:10.505Z"
   },
   {
    "duration": 15,
    "start_time": "2024-09-19T16:01:18.193Z"
   },
   {
    "duration": 12,
    "start_time": "2024-09-19T16:02:08.652Z"
   },
   {
    "duration": 13,
    "start_time": "2024-09-19T16:03:03.610Z"
   },
   {
    "duration": 9,
    "start_time": "2024-09-19T16:04:10.306Z"
   },
   {
    "duration": 11,
    "start_time": "2024-09-19T16:04:29.434Z"
   },
   {
    "duration": 13,
    "start_time": "2024-09-19T16:04:38.483Z"
   },
   {
    "duration": 11,
    "start_time": "2024-09-19T16:04:39.550Z"
   },
   {
    "duration": 9,
    "start_time": "2024-09-19T16:04:58.305Z"
   },
   {
    "duration": 16,
    "start_time": "2024-09-19T16:06:37.067Z"
   },
   {
    "duration": 12,
    "start_time": "2024-09-19T16:07:28.081Z"
   },
   {
    "duration": 10,
    "start_time": "2024-09-19T16:07:50.617Z"
   },
   {
    "duration": 459,
    "start_time": "2024-09-19T16:07:56.638Z"
   },
   {
    "duration": 10,
    "start_time": "2024-09-19T16:08:04.135Z"
   },
   {
    "duration": 11,
    "start_time": "2024-09-19T16:08:25.059Z"
   },
   {
    "duration": 307,
    "start_time": "2024-09-19T16:08:37.195Z"
   },
   {
    "duration": 13,
    "start_time": "2024-09-19T16:08:49.931Z"
   },
   {
    "duration": 6,
    "start_time": "2024-09-19T16:10:18.473Z"
   },
   {
    "duration": 10,
    "start_time": "2024-09-19T16:11:03.070Z"
   },
   {
    "duration": 12,
    "start_time": "2024-09-19T16:11:53.132Z"
   },
   {
    "duration": 6,
    "start_time": "2024-09-19T16:12:38.715Z"
   },
   {
    "duration": 14,
    "start_time": "2024-09-19T16:13:49.993Z"
   },
   {
    "duration": 4,
    "start_time": "2024-09-19T16:13:56.546Z"
   },
   {
    "duration": 13,
    "start_time": "2024-09-19T16:14:01.547Z"
   },
   {
    "duration": 19,
    "start_time": "2024-09-19T16:14:15.196Z"
   },
   {
    "duration": 12,
    "start_time": "2024-09-19T16:15:02.936Z"
   },
   {
    "duration": 125,
    "start_time": "2024-09-19T16:15:16.017Z"
   },
   {
    "duration": 116,
    "start_time": "2024-09-19T16:15:28.646Z"
   },
   {
    "duration": 113,
    "start_time": "2024-09-19T16:15:34.021Z"
   },
   {
    "duration": 12,
    "start_time": "2024-09-19T16:16:27.400Z"
   },
   {
    "duration": 115,
    "start_time": "2024-09-19T16:16:45.897Z"
   },
   {
    "duration": 125,
    "start_time": "2024-09-19T16:17:35.176Z"
   },
   {
    "duration": 116,
    "start_time": "2024-09-19T16:17:39.086Z"
   },
   {
    "duration": 91,
    "start_time": "2024-09-19T16:17:51.255Z"
   },
   {
    "duration": 116,
    "start_time": "2024-09-19T16:18:03.631Z"
   },
   {
    "duration": 117,
    "start_time": "2024-09-19T16:18:34.045Z"
   },
   {
    "duration": 121,
    "start_time": "2024-09-19T16:19:06.731Z"
   },
   {
    "duration": 114,
    "start_time": "2024-09-19T16:19:24.809Z"
   },
   {
    "duration": 2500,
    "start_time": "2024-09-19T20:32:26.250Z"
   },
   {
    "duration": 529,
    "start_time": "2024-09-19T20:32:28.752Z"
   },
   {
    "duration": 19,
    "start_time": "2024-09-19T20:32:29.283Z"
   },
   {
    "duration": 16,
    "start_time": "2024-09-19T20:32:29.304Z"
   },
   {
    "duration": 41,
    "start_time": "2024-09-19T20:32:29.325Z"
   },
   {
    "duration": 12,
    "start_time": "2024-09-19T20:32:29.367Z"
   },
   {
    "duration": 150,
    "start_time": "2024-09-19T20:32:29.380Z"
   },
   {
    "duration": 6,
    "start_time": "2024-09-19T20:32:29.532Z"
   },
   {
    "duration": 6,
    "start_time": "2024-09-19T20:32:29.539Z"
   },
   {
    "duration": 83,
    "start_time": "2024-09-19T20:32:29.546Z"
   },
   {
    "duration": 21,
    "start_time": "2024-09-19T20:32:29.631Z"
   },
   {
    "duration": 19,
    "start_time": "2024-09-19T20:32:29.654Z"
   },
   {
    "duration": 12,
    "start_time": "2024-09-19T20:32:29.674Z"
   },
   {
    "duration": 153,
    "start_time": "2024-09-19T20:32:29.689Z"
   },
   {
    "duration": 6,
    "start_time": "2024-09-19T20:50:34.195Z"
   },
   {
    "duration": 6,
    "start_time": "2024-09-19T20:50:37.182Z"
   },
   {
    "duration": 213,
    "start_time": "2024-09-19T20:51:13.505Z"
   },
   {
    "duration": 39,
    "start_time": "2024-09-19T20:51:24.380Z"
   },
   {
    "duration": 6,
    "start_time": "2024-09-19T20:51:59.546Z"
   },
   {
    "duration": 29,
    "start_time": "2024-09-19T20:52:02.266Z"
   },
   {
    "duration": 27,
    "start_time": "2024-09-19T20:53:29.055Z"
   },
   {
    "duration": 37,
    "start_time": "2024-09-19T20:54:12.907Z"
   },
   {
    "duration": 47,
    "start_time": "2024-09-19T20:54:31.956Z"
   },
   {
    "duration": 6,
    "start_time": "2024-09-19T20:56:15.692Z"
   },
   {
    "duration": 49,
    "start_time": "2024-09-19T20:56:17.796Z"
   },
   {
    "duration": 36,
    "start_time": "2024-09-19T20:56:41.469Z"
   },
   {
    "duration": 14,
    "start_time": "2024-09-19T20:59:09.586Z"
   },
   {
    "duration": 7,
    "start_time": "2024-09-19T20:59:27.272Z"
   },
   {
    "duration": 228,
    "start_time": "2024-09-19T21:03:53.121Z"
   },
   {
    "duration": 56,
    "start_time": "2024-09-19T21:05:02.610Z"
   },
   {
    "duration": 36,
    "start_time": "2024-09-19T21:05:33.471Z"
   },
   {
    "duration": 37,
    "start_time": "2024-09-19T21:05:56.111Z"
   },
   {
    "duration": 37,
    "start_time": "2024-09-19T21:06:10.977Z"
   },
   {
    "duration": 5,
    "start_time": "2024-09-19T21:07:39.227Z"
   },
   {
    "duration": 5,
    "start_time": "2024-09-19T21:07:41.764Z"
   },
   {
    "duration": 7,
    "start_time": "2024-09-19T21:07:45.173Z"
   },
   {
    "duration": 6,
    "start_time": "2024-09-19T21:07:47.595Z"
   },
   {
    "duration": 33,
    "start_time": "2024-09-19T21:07:50.045Z"
   },
   {
    "duration": 16,
    "start_time": "2024-09-19T21:11:04.928Z"
   },
   {
    "duration": 7,
    "start_time": "2024-09-19T21:11:08.946Z"
   },
   {
    "duration": 8,
    "start_time": "2024-09-19T21:11:10.964Z"
   },
   {
    "duration": 7,
    "start_time": "2024-09-19T21:11:18.143Z"
   },
   {
    "duration": 34,
    "start_time": "2024-09-19T21:11:20.696Z"
   },
   {
    "duration": 10,
    "start_time": "2024-09-19T21:12:50.704Z"
   },
   {
    "duration": 13,
    "start_time": "2024-09-19T21:12:59.466Z"
   },
   {
    "duration": 6,
    "start_time": "2024-09-19T21:13:31.357Z"
   },
   {
    "duration": 12,
    "start_time": "2024-09-19T21:13:33.741Z"
   },
   {
    "duration": 2,
    "start_time": "2024-09-19T21:13:59.386Z"
   },
   {
    "duration": 13,
    "start_time": "2024-09-19T21:14:01.189Z"
   },
   {
    "duration": 131,
    "start_time": "2024-09-19T21:14:10.867Z"
   },
   {
    "duration": 12,
    "start_time": "2024-09-19T21:14:14.689Z"
   },
   {
    "duration": 765,
    "start_time": "2024-09-19T21:14:43.175Z"
   },
   {
    "duration": 392,
    "start_time": "2024-09-19T21:14:43.942Z"
   },
   {
    "duration": 16,
    "start_time": "2024-09-19T21:14:44.336Z"
   },
   {
    "duration": 15,
    "start_time": "2024-09-19T21:14:44.354Z"
   },
   {
    "duration": 25,
    "start_time": "2024-09-19T21:14:44.371Z"
   },
   {
    "duration": 34,
    "start_time": "2024-09-19T21:14:44.397Z"
   },
   {
    "duration": 110,
    "start_time": "2024-09-19T21:14:44.433Z"
   },
   {
    "duration": 6,
    "start_time": "2024-09-19T21:14:44.544Z"
   },
   {
    "duration": 6,
    "start_time": "2024-09-19T21:14:44.551Z"
   },
   {
    "duration": 82,
    "start_time": "2024-09-19T21:14:44.560Z"
   },
   {
    "duration": 16,
    "start_time": "2024-09-19T21:14:44.644Z"
   },
   {
    "duration": 12,
    "start_time": "2024-09-19T21:14:44.662Z"
   },
   {
    "duration": 10,
    "start_time": "2024-09-19T21:14:44.675Z"
   },
   {
    "duration": 152,
    "start_time": "2024-09-19T21:14:44.686Z"
   },
   {
    "duration": 2,
    "start_time": "2024-09-19T21:14:44.840Z"
   },
   {
    "duration": 14,
    "start_time": "2024-09-19T21:14:44.844Z"
   },
   {
    "duration": 6,
    "start_time": "2024-09-19T21:14:44.860Z"
   },
   {
    "duration": 57,
    "start_time": "2024-09-19T21:14:44.868Z"
   },
   {
    "duration": 15,
    "start_time": "2024-09-19T21:16:34.510Z"
   },
   {
    "duration": 14,
    "start_time": "2024-09-19T21:17:26.559Z"
   },
   {
    "duration": 15,
    "start_time": "2024-09-19T21:17:30.628Z"
   },
   {
    "duration": 19,
    "start_time": "2024-09-19T21:20:05.579Z"
   },
   {
    "duration": 28,
    "start_time": "2024-09-19T21:20:28.337Z"
   },
   {
    "duration": 27,
    "start_time": "2024-09-19T21:21:07.290Z"
   },
   {
    "duration": 40,
    "start_time": "2024-09-19T21:21:58.004Z"
   },
   {
    "duration": 881,
    "start_time": "2024-09-20T00:32:37.129Z"
   },
   {
    "duration": 414,
    "start_time": "2024-09-20T00:32:38.012Z"
   },
   {
    "duration": 15,
    "start_time": "2024-09-20T00:32:38.428Z"
   },
   {
    "duration": 15,
    "start_time": "2024-09-20T00:32:38.446Z"
   },
   {
    "duration": 26,
    "start_time": "2024-09-20T00:32:38.462Z"
   },
   {
    "duration": 39,
    "start_time": "2024-09-20T00:32:38.490Z"
   },
   {
    "duration": 119,
    "start_time": "2024-09-20T00:32:38.531Z"
   },
   {
    "duration": 5,
    "start_time": "2024-09-20T00:32:38.652Z"
   },
   {
    "duration": 7,
    "start_time": "2024-09-20T00:32:38.659Z"
   },
   {
    "duration": 82,
    "start_time": "2024-09-20T00:32:38.668Z"
   },
   {
    "duration": 17,
    "start_time": "2024-09-20T00:32:38.752Z"
   },
   {
    "duration": 26,
    "start_time": "2024-09-20T00:32:38.771Z"
   },
   {
    "duration": 34,
    "start_time": "2024-09-20T00:32:38.799Z"
   },
   {
    "duration": 140,
    "start_time": "2024-09-20T00:32:38.834Z"
   },
   {
    "duration": 6,
    "start_time": "2024-09-20T00:32:38.976Z"
   },
   {
    "duration": 50,
    "start_time": "2024-09-20T00:32:38.984Z"
   },
   {
    "duration": 6,
    "start_time": "2024-09-20T00:40:25.477Z"
   },
   {
    "duration": 37,
    "start_time": "2024-09-20T00:40:28.964Z"
   },
   {
    "duration": 7,
    "start_time": "2024-09-20T00:44:11.011Z"
   },
   {
    "duration": 38,
    "start_time": "2024-09-20T00:44:13.403Z"
   },
   {
    "duration": 2549,
    "start_time": "2024-09-23T22:17:52.698Z"
   },
   {
    "duration": 477,
    "start_time": "2024-09-23T22:17:55.249Z"
   },
   {
    "duration": 16,
    "start_time": "2024-09-23T22:17:55.728Z"
   },
   {
    "duration": 16,
    "start_time": "2024-09-23T22:17:55.746Z"
   },
   {
    "duration": 30,
    "start_time": "2024-09-23T22:17:55.763Z"
   },
   {
    "duration": 27,
    "start_time": "2024-09-23T22:17:55.795Z"
   },
   {
    "duration": 118,
    "start_time": "2024-09-23T22:17:55.824Z"
   },
   {
    "duration": 6,
    "start_time": "2024-09-23T22:17:55.944Z"
   },
   {
    "duration": 6,
    "start_time": "2024-09-23T22:17:55.951Z"
   },
   {
    "duration": 86,
    "start_time": "2024-09-23T22:17:55.959Z"
   },
   {
    "duration": 16,
    "start_time": "2024-09-23T22:17:56.047Z"
   },
   {
    "duration": 26,
    "start_time": "2024-09-23T22:17:56.065Z"
   },
   {
    "duration": 9,
    "start_time": "2024-09-23T22:17:56.110Z"
   },
   {
    "duration": 140,
    "start_time": "2024-09-23T22:17:56.122Z"
   },
   {
    "duration": 8,
    "start_time": "2024-09-23T22:17:56.264Z"
   },
   {
    "duration": 52,
    "start_time": "2024-09-23T22:17:56.273Z"
   },
   {
    "duration": 69,
    "start_time": "2024-09-23T22:20:58.460Z"
   },
   {
    "duration": 98,
    "start_time": "2024-09-23T22:22:16.499Z"
   },
   {
    "duration": 6,
    "start_time": "2024-09-23T22:23:02.074Z"
   },
   {
    "duration": 26,
    "start_time": "2024-09-23T22:23:27.616Z"
   },
   {
    "duration": 6,
    "start_time": "2024-09-23T22:23:39.243Z"
   },
   {
    "duration": 22,
    "start_time": "2024-09-23T22:23:42.530Z"
   },
   {
    "duration": 9,
    "start_time": "2024-09-23T22:25:55.410Z"
   },
   {
    "duration": 24,
    "start_time": "2024-09-23T22:26:02.904Z"
   },
   {
    "duration": 535,
    "start_time": "2024-09-23T22:26:50.041Z"
   },
   {
    "duration": 23,
    "start_time": "2024-09-23T22:27:02.364Z"
   },
   {
    "duration": 155,
    "start_time": "2024-09-23T22:28:17.466Z"
   },
   {
    "duration": 10,
    "start_time": "2024-09-23T22:28:26.089Z"
   },
   {
    "duration": 25,
    "start_time": "2024-09-23T22:28:29.377Z"
   },
   {
    "duration": 44,
    "start_time": "2024-09-23T22:28:56.278Z"
   },
   {
    "duration": 23,
    "start_time": "2024-09-23T22:29:02.180Z"
   },
   {
    "duration": 16,
    "start_time": "2024-09-23T22:29:24.858Z"
   },
   {
    "duration": 5,
    "start_time": "2024-09-23T22:30:04.181Z"
   },
   {
    "duration": 138,
    "start_time": "2024-09-23T22:36:14.297Z"
   },
   {
    "duration": 22,
    "start_time": "2024-09-23T22:36:35.879Z"
   },
   {
    "duration": 6,
    "start_time": "2024-09-23T22:37:23.893Z"
   },
   {
    "duration": 24,
    "start_time": "2024-09-23T22:37:26.905Z"
   },
   {
    "duration": 96,
    "start_time": "2024-09-23T22:39:47.831Z"
   },
   {
    "duration": 24,
    "start_time": "2024-09-23T22:39:52.720Z"
   },
   {
    "duration": 99,
    "start_time": "2024-09-23T22:40:07.916Z"
   },
   {
    "duration": 89,
    "start_time": "2024-09-23T22:40:13.203Z"
   },
   {
    "duration": 29,
    "start_time": "2024-09-23T22:40:16.825Z"
   },
   {
    "duration": 22,
    "start_time": "2024-09-23T22:50:01.212Z"
   },
   {
    "duration": 6,
    "start_time": "2024-09-23T23:24:42.576Z"
   },
   {
    "duration": 24,
    "start_time": "2024-09-23T23:24:44.954Z"
   },
   {
    "duration": 843,
    "start_time": "2024-09-23T23:25:34.849Z"
   },
   {
    "duration": 392,
    "start_time": "2024-09-23T23:25:35.694Z"
   },
   {
    "duration": 15,
    "start_time": "2024-09-23T23:25:36.087Z"
   },
   {
    "duration": 15,
    "start_time": "2024-09-23T23:25:36.109Z"
   },
   {
    "duration": 27,
    "start_time": "2024-09-23T23:25:36.125Z"
   },
   {
    "duration": 12,
    "start_time": "2024-09-23T23:25:36.153Z"
   },
   {
    "duration": 131,
    "start_time": "2024-09-23T23:25:36.168Z"
   },
   {
    "duration": 12,
    "start_time": "2024-09-23T23:25:36.301Z"
   },
   {
    "duration": 5,
    "start_time": "2024-09-23T23:25:36.315Z"
   },
   {
    "duration": 106,
    "start_time": "2024-09-23T23:25:36.323Z"
   },
   {
    "duration": 27,
    "start_time": "2024-09-23T23:25:36.430Z"
   },
   {
    "duration": 7,
    "start_time": "2024-09-23T23:25:36.459Z"
   },
   {
    "duration": 13,
    "start_time": "2024-09-23T23:25:36.467Z"
   },
   {
    "duration": 28,
    "start_time": "2024-09-23T23:25:36.482Z"
   },
   {
    "duration": 154,
    "start_time": "2024-09-23T23:25:36.512Z"
   },
   {
    "duration": 6,
    "start_time": "2024-09-23T23:25:36.668Z"
   },
   {
    "duration": 34,
    "start_time": "2024-09-23T23:25:36.675Z"
   },
   {
    "duration": 116,
    "start_time": "2024-09-24T00:56:12.338Z"
   },
   {
    "duration": 22,
    "start_time": "2024-09-24T00:57:24.830Z"
   },
   {
    "duration": 21,
    "start_time": "2024-09-24T00:57:36.739Z"
   },
   {
    "duration": 72,
    "start_time": "2024-09-24T00:57:53.326Z"
   },
   {
    "duration": 6,
    "start_time": "2024-09-24T00:58:01.555Z"
   },
   {
    "duration": 14,
    "start_time": "2024-09-24T00:58:11.428Z"
   },
   {
    "duration": 12,
    "start_time": "2024-09-24T00:58:47.420Z"
   },
   {
    "duration": 6,
    "start_time": "2024-09-24T01:00:03.289Z"
   },
   {
    "duration": 76,
    "start_time": "2024-09-24T01:00:21.283Z"
   },
   {
    "duration": 104,
    "start_time": "2024-09-24T01:00:46.730Z"
   },
   {
    "duration": 74,
    "start_time": "2024-09-24T01:00:51.238Z"
   },
   {
    "duration": 86,
    "start_time": "2024-09-24T01:01:07.552Z"
   },
   {
    "duration": 85,
    "start_time": "2024-09-24T01:01:26.171Z"
   },
   {
    "duration": 98,
    "start_time": "2024-09-24T01:02:18.910Z"
   },
   {
    "duration": 308,
    "start_time": "2024-09-24T01:03:57.367Z"
   },
   {
    "duration": 146,
    "start_time": "2024-09-24T01:04:02.923Z"
   },
   {
    "duration": 110,
    "start_time": "2024-09-24T01:04:17.311Z"
   },
   {
    "duration": 114,
    "start_time": "2024-09-24T01:04:44.743Z"
   },
   {
    "duration": 8,
    "start_time": "2024-09-24T01:05:11.210Z"
   },
   {
    "duration": 137,
    "start_time": "2024-09-24T01:05:55.188Z"
   },
   {
    "duration": 147,
    "start_time": "2024-09-24T01:06:26.064Z"
   },
   {
    "duration": 7,
    "start_time": "2024-09-24T01:08:18.211Z"
   },
   {
    "duration": 23,
    "start_time": "2024-09-24T01:08:22.219Z"
   },
   {
    "duration": 6,
    "start_time": "2024-09-24T01:08:54.867Z"
   },
   {
    "duration": 25,
    "start_time": "2024-09-24T01:08:59.008Z"
   },
   {
    "duration": 15,
    "start_time": "2024-09-24T01:14:52.043Z"
   },
   {
    "duration": 10,
    "start_time": "2024-09-24T01:21:01.046Z"
   },
   {
    "duration": 24,
    "start_time": "2024-09-24T01:21:03.326Z"
   },
   {
    "duration": 7,
    "start_time": "2024-09-24T01:23:19.471Z"
   },
   {
    "duration": 23,
    "start_time": "2024-09-24T01:23:24.942Z"
   },
   {
    "duration": 7,
    "start_time": "2024-09-24T01:32:47.671Z"
   },
   {
    "duration": 37,
    "start_time": "2024-09-24T01:32:51.732Z"
   },
   {
    "duration": 8,
    "start_time": "2024-09-24T01:33:29.546Z"
   },
   {
    "duration": 3,
    "start_time": "2024-09-24T01:33:31.229Z"
   },
   {
    "duration": 7,
    "start_time": "2024-09-24T01:33:41.494Z"
   },
   {
    "duration": 38,
    "start_time": "2024-09-24T01:33:43.718Z"
   },
   {
    "duration": 6,
    "start_time": "2024-09-24T01:33:53.608Z"
   },
   {
    "duration": 174,
    "start_time": "2024-09-24T01:33:55.380Z"
   },
   {
    "duration": 7,
    "start_time": "2024-09-24T01:34:27.779Z"
   },
   {
    "duration": 166,
    "start_time": "2024-09-24T01:34:29.409Z"
   },
   {
    "duration": 7,
    "start_time": "2024-09-24T01:34:32.402Z"
   },
   {
    "duration": 173,
    "start_time": "2024-09-24T01:34:34.313Z"
   },
   {
    "duration": 7,
    "start_time": "2024-09-24T01:38:15.115Z"
   },
   {
    "duration": 23,
    "start_time": "2024-09-24T01:38:16.775Z"
   },
   {
    "duration": 57,
    "start_time": "2024-09-24T01:39:23.257Z"
   },
   {
    "duration": 3,
    "start_time": "2024-09-24T01:40:27.580Z"
   },
   {
    "duration": 74,
    "start_time": "2024-09-24T01:40:37.163Z"
   },
   {
    "duration": 61,
    "start_time": "2024-09-24T01:41:03.153Z"
   },
   {
    "duration": 59,
    "start_time": "2024-09-24T01:41:12.942Z"
   },
   {
    "duration": 5,
    "start_time": "2024-09-24T01:41:26.241Z"
   },
   {
    "duration": 59,
    "start_time": "2024-09-24T01:41:40.369Z"
   },
   {
    "duration": 62,
    "start_time": "2024-09-24T01:41:51.704Z"
   },
   {
    "duration": 74,
    "start_time": "2024-09-24T01:41:57.169Z"
   },
   {
    "duration": 67,
    "start_time": "2024-09-24T01:43:05.633Z"
   },
   {
    "duration": 59,
    "start_time": "2024-09-24T01:43:18.475Z"
   },
   {
    "duration": 2496,
    "start_time": "2024-09-25T11:57:43.859Z"
   },
   {
    "duration": 475,
    "start_time": "2024-09-25T11:57:46.357Z"
   },
   {
    "duration": 16,
    "start_time": "2024-09-25T11:57:46.833Z"
   },
   {
    "duration": 14,
    "start_time": "2024-09-25T11:57:46.852Z"
   },
   {
    "duration": 25,
    "start_time": "2024-09-25T11:57:46.868Z"
   },
   {
    "duration": 33,
    "start_time": "2024-09-25T11:57:46.894Z"
   },
   {
    "duration": 111,
    "start_time": "2024-09-25T11:57:46.928Z"
   },
   {
    "duration": 6,
    "start_time": "2024-09-25T11:57:47.041Z"
   },
   {
    "duration": 5,
    "start_time": "2024-09-25T11:57:47.048Z"
   },
   {
    "duration": 108,
    "start_time": "2024-09-25T11:57:47.056Z"
   },
   {
    "duration": 22,
    "start_time": "2024-09-25T11:57:47.166Z"
   },
   {
    "duration": 7,
    "start_time": "2024-09-25T11:57:47.190Z"
   },
   {
    "duration": 116,
    "start_time": "2024-09-25T11:57:47.199Z"
   },
   {
    "duration": 109,
    "start_time": "2024-09-25T11:57:47.317Z"
   },
   {
    "duration": 7,
    "start_time": "2024-09-25T11:57:47.428Z"
   },
   {
    "duration": 162,
    "start_time": "2024-09-25T11:57:47.436Z"
   },
   {
    "duration": 7,
    "start_time": "2024-09-25T11:57:47.599Z"
   },
   {
    "duration": 40,
    "start_time": "2024-09-25T11:57:47.607Z"
   },
   {
    "duration": 44,
    "start_time": "2024-09-25T11:57:47.649Z"
   },
   {
    "duration": 792,
    "start_time": "2024-09-25T12:07:09.317Z"
   },
   {
    "duration": 387,
    "start_time": "2024-09-25T12:07:10.112Z"
   },
   {
    "duration": 15,
    "start_time": "2024-09-25T12:07:10.501Z"
   },
   {
    "duration": 16,
    "start_time": "2024-09-25T12:07:10.524Z"
   },
   {
    "duration": 25,
    "start_time": "2024-09-25T12:07:10.542Z"
   },
   {
    "duration": 12,
    "start_time": "2024-09-25T12:07:10.569Z"
   },
   {
    "duration": 132,
    "start_time": "2024-09-25T12:07:10.583Z"
   },
   {
    "duration": 10,
    "start_time": "2024-09-25T12:07:10.717Z"
   },
   {
    "duration": 5,
    "start_time": "2024-09-25T12:07:10.729Z"
   },
   {
    "duration": 105,
    "start_time": "2024-09-25T12:07:10.736Z"
   },
   {
    "duration": 21,
    "start_time": "2024-09-25T12:07:10.843Z"
   },
   {
    "duration": 8,
    "start_time": "2024-09-25T12:07:10.866Z"
   },
   {
    "duration": 118,
    "start_time": "2024-09-25T12:07:10.875Z"
   },
   {
    "duration": 105,
    "start_time": "2024-09-25T12:07:10.996Z"
   },
   {
    "duration": 7,
    "start_time": "2024-09-25T12:07:11.103Z"
   },
   {
    "duration": 201,
    "start_time": "2024-09-25T12:07:11.112Z"
   },
   {
    "duration": 10,
    "start_time": "2024-09-25T12:07:11.315Z"
   },
   {
    "duration": 23,
    "start_time": "2024-09-25T12:07:11.327Z"
   },
   {
    "duration": 45,
    "start_time": "2024-09-25T12:07:11.351Z"
   },
   {
    "duration": 6,
    "start_time": "2024-09-25T12:09:06.800Z"
   },
   {
    "duration": 14,
    "start_time": "2024-09-25T12:29:21.387Z"
   },
   {
    "duration": 13,
    "start_time": "2024-09-25T12:29:29.081Z"
   },
   {
    "duration": 6,
    "start_time": "2024-09-25T12:29:54.096Z"
   },
   {
    "duration": 214,
    "start_time": "2024-09-25T12:31:08.356Z"
   },
   {
    "duration": 11,
    "start_time": "2024-09-25T12:31:29.683Z"
   },
   {
    "duration": 23,
    "start_time": "2024-09-25T12:31:44.491Z"
   },
   {
    "duration": 4,
    "start_time": "2024-09-25T12:31:54.073Z"
   },
   {
    "duration": 123,
    "start_time": "2024-09-25T12:32:02.439Z"
   },
   {
    "duration": 5,
    "start_time": "2024-09-25T12:32:56.906Z"
   },
   {
    "duration": 13,
    "start_time": "2024-09-25T12:33:00.697Z"
   },
   {
    "duration": 6,
    "start_time": "2024-09-25T12:33:03.123Z"
   },
   {
    "duration": 12,
    "start_time": "2024-09-25T12:33:19.681Z"
   },
   {
    "duration": 6,
    "start_time": "2024-09-25T12:33:22.220Z"
   },
   {
    "duration": 778,
    "start_time": "2024-09-25T12:33:36.666Z"
   },
   {
    "duration": 407,
    "start_time": "2024-09-25T12:33:37.446Z"
   },
   {
    "duration": 16,
    "start_time": "2024-09-25T12:33:37.854Z"
   },
   {
    "duration": 16,
    "start_time": "2024-09-25T12:33:37.872Z"
   },
   {
    "duration": 48,
    "start_time": "2024-09-25T12:33:37.890Z"
   },
   {
    "duration": 12,
    "start_time": "2024-09-25T12:33:37.940Z"
   },
   {
    "duration": 118,
    "start_time": "2024-09-25T12:33:37.954Z"
   },
   {
    "duration": 5,
    "start_time": "2024-09-25T12:33:38.074Z"
   },
   {
    "duration": 6,
    "start_time": "2024-09-25T12:33:38.081Z"
   },
   {
    "duration": 113,
    "start_time": "2024-09-25T12:33:38.089Z"
   },
   {
    "duration": 25,
    "start_time": "2024-09-25T12:33:38.204Z"
   },
   {
    "duration": 5,
    "start_time": "2024-09-25T12:33:38.231Z"
   },
   {
    "duration": 188,
    "start_time": "2024-09-25T12:33:38.237Z"
   },
   {
    "duration": 17,
    "start_time": "2024-09-25T12:33:38.427Z"
   },
   {
    "duration": 4,
    "start_time": "2024-09-25T12:33:38.446Z"
   },
   {
    "duration": 7,
    "start_time": "2024-09-25T12:33:38.452Z"
   },
   {
    "duration": 176,
    "start_time": "2024-09-25T12:33:38.460Z"
   },
   {
    "duration": 105,
    "start_time": "2024-09-25T12:33:38.638Z"
   },
   {
    "duration": 6,
    "start_time": "2024-09-25T12:33:38.744Z"
   },
   {
    "duration": 167,
    "start_time": "2024-09-25T12:33:38.752Z"
   },
   {
    "duration": 8,
    "start_time": "2024-09-25T12:33:38.921Z"
   },
   {
    "duration": 23,
    "start_time": "2024-09-25T12:33:38.931Z"
   },
   {
    "duration": 68,
    "start_time": "2024-09-25T12:33:38.956Z"
   },
   {
    "duration": 6,
    "start_time": "2024-09-25T12:34:10.134Z"
   },
   {
    "duration": 6,
    "start_time": "2024-09-25T12:34:41.263Z"
   },
   {
    "duration": 14,
    "start_time": "2024-09-25T12:37:44.339Z"
   },
   {
    "duration": 9,
    "start_time": "2024-09-25T12:37:48.126Z"
   },
   {
    "duration": 760,
    "start_time": "2024-09-25T12:38:22.708Z"
   },
   {
    "duration": 389,
    "start_time": "2024-09-25T12:38:23.470Z"
   },
   {
    "duration": 19,
    "start_time": "2024-09-25T12:38:23.860Z"
   },
   {
    "duration": 17,
    "start_time": "2024-09-25T12:38:23.882Z"
   },
   {
    "duration": 38,
    "start_time": "2024-09-25T12:38:23.901Z"
   },
   {
    "duration": 13,
    "start_time": "2024-09-25T12:38:23.940Z"
   },
   {
    "duration": 122,
    "start_time": "2024-09-25T12:38:23.954Z"
   },
   {
    "duration": 5,
    "start_time": "2024-09-25T12:38:24.077Z"
   },
   {
    "duration": 6,
    "start_time": "2024-09-25T12:38:24.085Z"
   },
   {
    "duration": 102,
    "start_time": "2024-09-25T12:38:24.093Z"
   },
   {
    "duration": 32,
    "start_time": "2024-09-25T12:38:24.196Z"
   },
   {
    "duration": 5,
    "start_time": "2024-09-25T12:38:24.229Z"
   },
   {
    "duration": 185,
    "start_time": "2024-09-25T12:38:24.237Z"
   },
   {
    "duration": 16,
    "start_time": "2024-09-25T12:38:24.424Z"
   },
   {
    "duration": 156,
    "start_time": "2024-09-25T12:38:24.441Z"
   },
   {
    "duration": 102,
    "start_time": "2024-09-25T12:38:24.599Z"
   },
   {
    "duration": 21,
    "start_time": "2024-09-25T12:38:24.703Z"
   },
   {
    "duration": 261,
    "start_time": "2024-09-25T12:38:24.726Z"
   },
   {
    "duration": 6,
    "start_time": "2024-09-25T12:38:24.989Z"
   },
   {
    "duration": 49,
    "start_time": "2024-09-25T12:38:24.997Z"
   },
   {
    "duration": 54,
    "start_time": "2024-09-25T12:38:25.048Z"
   },
   {
    "duration": 260,
    "start_time": "2024-09-25T12:38:51.994Z"
   },
   {
    "duration": 6,
    "start_time": "2024-09-25T12:40:50.208Z"
   },
   {
    "duration": 6,
    "start_time": "2024-09-25T12:42:22.686Z"
   },
   {
    "duration": 170,
    "start_time": "2024-09-25T12:42:24.848Z"
   },
   {
    "duration": 6,
    "start_time": "2024-09-25T12:48:12.747Z"
   },
   {
    "duration": 4,
    "start_time": "2024-09-25T12:48:14.976Z"
   },
   {
    "duration": 84,
    "start_time": "2024-09-25T12:48:44.939Z"
   },
   {
    "duration": 7,
    "start_time": "2024-09-25T12:52:36.967Z"
   },
   {
    "duration": 86,
    "start_time": "2024-09-25T12:52:41.814Z"
   },
   {
    "duration": 6,
    "start_time": "2024-09-25T12:53:00.636Z"
   },
   {
    "duration": 3,
    "start_time": "2024-09-25T12:53:03.812Z"
   },
   {
    "duration": 89,
    "start_time": "2024-09-25T12:53:06.142Z"
   },
   {
    "duration": 6,
    "start_time": "2024-09-25T12:55:23.364Z"
   },
   {
    "duration": 37,
    "start_time": "2024-09-25T12:55:29.623Z"
   },
   {
    "duration": 7,
    "start_time": "2024-09-25T14:52:54.787Z"
   },
   {
    "duration": 14,
    "start_time": "2024-09-25T14:52:56.689Z"
   },
   {
    "duration": 8,
    "start_time": "2024-09-25T14:53:41.557Z"
   },
   {
    "duration": 16,
    "start_time": "2024-09-25T14:53:51.639Z"
   },
   {
    "duration": 3,
    "start_time": "2024-09-25T14:55:49.532Z"
   },
   {
    "duration": 132,
    "start_time": "2024-09-25T15:16:43.010Z"
   },
   {
    "duration": 260,
    "start_time": "2024-09-25T15:16:53.165Z"
   },
   {
    "duration": 4,
    "start_time": "2024-09-25T15:26:41.274Z"
   },
   {
    "duration": 4,
    "start_time": "2024-09-25T16:07:41.354Z"
   },
   {
    "duration": 4,
    "start_time": "2024-09-25T16:14:14.583Z"
   },
   {
    "duration": 20,
    "start_time": "2024-09-25T16:14:54.471Z"
   },
   {
    "duration": 21,
    "start_time": "2024-09-25T16:15:00.075Z"
   },
   {
    "duration": 16,
    "start_time": "2024-09-25T16:15:08.738Z"
   },
   {
    "duration": 808,
    "start_time": "2024-09-27T04:21:12.299Z"
   },
   {
    "duration": 469,
    "start_time": "2024-09-27T04:21:13.110Z"
   },
   {
    "duration": 15,
    "start_time": "2024-09-27T04:21:13.580Z"
   },
   {
    "duration": 16,
    "start_time": "2024-09-27T04:21:13.599Z"
   },
   {
    "duration": 25,
    "start_time": "2024-09-27T04:21:13.617Z"
   },
   {
    "duration": 13,
    "start_time": "2024-09-27T04:21:13.643Z"
   },
   {
    "duration": 130,
    "start_time": "2024-09-27T04:21:13.657Z"
   },
   {
    "duration": 5,
    "start_time": "2024-09-27T04:21:13.789Z"
   },
   {
    "duration": 5,
    "start_time": "2024-09-27T04:21:13.805Z"
   },
   {
    "duration": 104,
    "start_time": "2024-09-27T04:21:13.813Z"
   },
   {
    "duration": 23,
    "start_time": "2024-09-27T04:21:13.919Z"
   },
   {
    "duration": 5,
    "start_time": "2024-09-27T04:21:13.943Z"
   },
   {
    "duration": 16,
    "start_time": "2024-09-27T04:21:13.950Z"
   },
   {
    "duration": 37,
    "start_time": "2024-09-27T04:21:13.968Z"
   },
   {
    "duration": 6,
    "start_time": "2024-09-27T04:21:14.007Z"
   },
   {
    "duration": 125,
    "start_time": "2024-09-27T04:21:14.014Z"
   },
   {
    "duration": 147,
    "start_time": "2024-09-27T04:21:14.141Z"
   },
   {
    "duration": 17,
    "start_time": "2024-09-27T04:21:14.289Z"
   },
   {
    "duration": 271,
    "start_time": "2024-09-27T04:21:14.308Z"
   },
   {
    "duration": 7,
    "start_time": "2024-09-27T04:21:14.581Z"
   },
   {
    "duration": 26,
    "start_time": "2024-09-27T04:21:14.589Z"
   },
   {
    "duration": 14,
    "start_time": "2024-09-27T04:21:14.616Z"
   },
   {
    "duration": 13,
    "start_time": "2024-09-27T04:21:14.631Z"
   },
   {
    "duration": 3,
    "start_time": "2024-09-27T04:24:19.053Z"
   },
   {
    "duration": 375,
    "start_time": "2024-09-27T04:24:19.058Z"
   },
   {
    "duration": 14,
    "start_time": "2024-09-27T04:24:19.434Z"
   },
   {
    "duration": 16,
    "start_time": "2024-09-27T04:24:19.450Z"
   },
   {
    "duration": 47,
    "start_time": "2024-09-27T04:24:19.467Z"
   },
   {
    "duration": 12,
    "start_time": "2024-09-27T04:24:19.516Z"
   },
   {
    "duration": 119,
    "start_time": "2024-09-27T04:24:19.529Z"
   },
   {
    "duration": 5,
    "start_time": "2024-09-27T04:24:19.650Z"
   },
   {
    "duration": 5,
    "start_time": "2024-09-27T04:24:19.658Z"
   },
   {
    "duration": 100,
    "start_time": "2024-09-27T04:24:19.665Z"
   },
   {
    "duration": 22,
    "start_time": "2024-09-27T04:24:19.767Z"
   },
   {
    "duration": 18,
    "start_time": "2024-09-27T04:24:19.791Z"
   },
   {
    "duration": 4,
    "start_time": "2024-09-27T04:24:19.811Z"
   },
   {
    "duration": 13,
    "start_time": "2024-09-27T04:24:19.816Z"
   },
   {
    "duration": 6,
    "start_time": "2024-09-27T04:24:19.831Z"
   },
   {
    "duration": 125,
    "start_time": "2024-09-27T04:24:19.840Z"
   },
   {
    "duration": 95,
    "start_time": "2024-09-27T04:24:19.967Z"
   },
   {
    "duration": 11,
    "start_time": "2024-09-27T04:24:20.064Z"
   },
   {
    "duration": 275,
    "start_time": "2024-09-27T04:24:20.076Z"
   },
   {
    "duration": 6,
    "start_time": "2024-09-27T04:24:20.353Z"
   },
   {
    "duration": 17,
    "start_time": "2024-09-27T04:24:20.360Z"
   },
   {
    "duration": 30,
    "start_time": "2024-09-27T04:24:20.379Z"
   },
   {
    "duration": 14,
    "start_time": "2024-09-27T04:24:20.411Z"
   },
   {
    "duration": 860,
    "start_time": "2024-10-23T20:25:19.452Z"
   },
   {
    "duration": 506,
    "start_time": "2024-10-23T20:25:20.315Z"
   },
   {
    "duration": 15,
    "start_time": "2024-10-23T20:25:20.824Z"
   },
   {
    "duration": 19,
    "start_time": "2024-10-23T20:25:20.842Z"
   },
   {
    "duration": 59,
    "start_time": "2024-10-23T20:25:20.863Z"
   },
   {
    "duration": 16,
    "start_time": "2024-10-23T20:25:20.924Z"
   },
   {
    "duration": 141,
    "start_time": "2024-10-23T20:25:20.942Z"
   },
   {
    "duration": 5,
    "start_time": "2024-10-23T20:25:21.084Z"
   },
   {
    "duration": 21,
    "start_time": "2024-10-23T20:25:21.091Z"
   },
   {
    "duration": 114,
    "start_time": "2024-10-23T20:25:21.116Z"
   },
   {
    "duration": 27,
    "start_time": "2024-10-23T20:25:21.232Z"
   },
   {
    "duration": 6,
    "start_time": "2024-10-23T20:25:21.261Z"
   },
   {
    "duration": 43,
    "start_time": "2024-10-23T20:25:21.269Z"
   },
   {
    "duration": 16,
    "start_time": "2024-10-23T20:25:21.314Z"
   },
   {
    "duration": 6,
    "start_time": "2024-10-23T20:25:21.333Z"
   },
   {
    "duration": 171,
    "start_time": "2024-10-23T20:25:21.343Z"
   },
   {
    "duration": 179,
    "start_time": "2024-10-23T20:25:21.516Z"
   },
   {
    "duration": 22,
    "start_time": "2024-10-23T20:25:21.697Z"
   },
   {
    "duration": 295,
    "start_time": "2024-10-23T20:25:21.721Z"
   },
   {
    "duration": 9,
    "start_time": "2024-10-23T20:25:22.019Z"
   },
   {
    "duration": 22,
    "start_time": "2024-10-23T20:25:22.031Z"
   },
   {
    "duration": 20,
    "start_time": "2024-10-23T20:25:22.055Z"
   },
   {
    "duration": 42,
    "start_time": "2024-10-23T20:25:22.078Z"
   },
   {
    "duration": 994,
    "start_time": "2024-10-23T20:25:35.227Z"
   },
   {
    "duration": 422,
    "start_time": "2024-10-23T20:25:36.224Z"
   },
   {
    "duration": 17,
    "start_time": "2024-10-23T20:25:36.648Z"
   },
   {
    "duration": 18,
    "start_time": "2024-10-23T20:25:36.668Z"
   },
   {
    "duration": 52,
    "start_time": "2024-10-23T20:25:36.688Z"
   },
   {
    "duration": 15,
    "start_time": "2024-10-23T20:25:36.741Z"
   },
   {
    "duration": 165,
    "start_time": "2024-10-23T20:25:36.758Z"
   },
   {
    "duration": 6,
    "start_time": "2024-10-23T20:25:36.926Z"
   },
   {
    "duration": 6,
    "start_time": "2024-10-23T20:25:36.934Z"
   },
   {
    "duration": 145,
    "start_time": "2024-10-23T20:25:36.944Z"
   },
   {
    "duration": 35,
    "start_time": "2024-10-23T20:25:37.090Z"
   },
   {
    "duration": 6,
    "start_time": "2024-10-23T20:25:37.127Z"
   },
   {
    "duration": 18,
    "start_time": "2024-10-23T20:25:37.134Z"
   },
   {
    "duration": 15,
    "start_time": "2024-10-23T20:25:37.154Z"
   },
   {
    "duration": 7,
    "start_time": "2024-10-23T20:25:37.171Z"
   },
   {
    "duration": 143,
    "start_time": "2024-10-23T20:25:37.180Z"
   },
   {
    "duration": 166,
    "start_time": "2024-10-23T20:25:37.325Z"
   },
   {
    "duration": 20,
    "start_time": "2024-10-23T20:25:37.493Z"
   },
   {
    "duration": 276,
    "start_time": "2024-10-23T20:25:37.514Z"
   },
   {
    "duration": 8,
    "start_time": "2024-10-23T20:25:37.792Z"
   },
   {
    "duration": 32,
    "start_time": "2024-10-23T20:25:37.803Z"
   },
   {
    "duration": 21,
    "start_time": "2024-10-23T20:25:37.837Z"
   },
   {
    "duration": 22,
    "start_time": "2024-10-23T20:25:37.862Z"
   },
   {
    "duration": 2593,
    "start_time": "2024-10-23T21:06:54.043Z"
   },
   {
    "duration": 480,
    "start_time": "2024-10-23T21:06:56.638Z"
   },
   {
    "duration": 16,
    "start_time": "2024-10-23T21:06:57.119Z"
   },
   {
    "duration": 18,
    "start_time": "2024-10-23T21:06:57.137Z"
   },
   {
    "duration": 31,
    "start_time": "2024-10-23T21:06:57.157Z"
   },
   {
    "duration": 14,
    "start_time": "2024-10-23T21:06:57.209Z"
   },
   {
    "duration": 124,
    "start_time": "2024-10-23T21:06:57.225Z"
   },
   {
    "duration": 5,
    "start_time": "2024-10-23T21:06:57.351Z"
   },
   {
    "duration": 6,
    "start_time": "2024-10-23T21:06:57.357Z"
   },
   {
    "duration": 116,
    "start_time": "2024-10-23T21:06:57.367Z"
   },
   {
    "duration": 37,
    "start_time": "2024-10-23T21:06:57.485Z"
   },
   {
    "duration": 5,
    "start_time": "2024-10-23T21:06:57.524Z"
   },
   {
    "duration": 17,
    "start_time": "2024-10-23T21:06:57.531Z"
   },
   {
    "duration": 16,
    "start_time": "2024-10-23T21:06:57.549Z"
   },
   {
    "duration": 6,
    "start_time": "2024-10-23T21:06:57.567Z"
   },
   {
    "duration": 144,
    "start_time": "2024-10-23T21:06:57.575Z"
   },
   {
    "duration": 103,
    "start_time": "2024-10-23T21:06:57.720Z"
   },
   {
    "duration": 12,
    "start_time": "2024-10-23T21:06:57.825Z"
   },
   {
    "duration": 283,
    "start_time": "2024-10-23T21:06:57.839Z"
   },
   {
    "duration": 9,
    "start_time": "2024-10-23T21:06:58.124Z"
   },
   {
    "duration": 21,
    "start_time": "2024-10-23T21:06:58.134Z"
   },
   {
    "duration": 18,
    "start_time": "2024-10-23T21:06:58.157Z"
   },
   {
    "duration": 45,
    "start_time": "2024-10-23T21:06:58.178Z"
   },
   {
    "duration": 169,
    "start_time": "2024-10-23T21:08:34.441Z"
   },
   {
    "duration": 184,
    "start_time": "2024-10-23T21:08:41.704Z"
   },
   {
    "duration": 131,
    "start_time": "2024-10-23T21:09:21.374Z"
   },
   {
    "duration": 135,
    "start_time": "2024-10-23T21:09:43.216Z"
   },
   {
    "duration": 148,
    "start_time": "2024-10-23T21:10:09.679Z"
   },
   {
    "duration": 136,
    "start_time": "2024-10-23T21:10:22.113Z"
   },
   {
    "duration": 165,
    "start_time": "2024-10-23T21:10:41.851Z"
   },
   {
    "duration": 146,
    "start_time": "2024-10-23T21:10:48.726Z"
   },
   {
    "duration": 168,
    "start_time": "2024-10-23T21:11:03.945Z"
   },
   {
    "duration": 146,
    "start_time": "2024-10-23T21:11:12.424Z"
   },
   {
    "duration": 159,
    "start_time": "2024-10-23T21:11:17.339Z"
   },
   {
    "duration": 152,
    "start_time": "2024-10-23T21:11:34.091Z"
   },
   {
    "duration": 152,
    "start_time": "2024-10-23T21:11:40.105Z"
   },
   {
    "duration": 157,
    "start_time": "2024-10-23T21:11:50.280Z"
   },
   {
    "duration": 159,
    "start_time": "2024-10-23T21:12:24.319Z"
   },
   {
    "duration": 25,
    "start_time": "2024-10-23T21:54:06.546Z"
   },
   {
    "duration": 9,
    "start_time": "2024-10-23T21:55:20.193Z"
   },
   {
    "duration": 12,
    "start_time": "2024-10-23T21:55:22.895Z"
   },
   {
    "duration": 13,
    "start_time": "2024-10-23T21:55:39.309Z"
   },
   {
    "duration": 16,
    "start_time": "2024-10-23T21:57:28.165Z"
   },
   {
    "duration": 16,
    "start_time": "2024-10-23T21:58:53.565Z"
   },
   {
    "duration": 203,
    "start_time": "2024-10-23T22:00:12.824Z"
   },
   {
    "duration": 663,
    "start_time": "2024-10-23T22:01:38.051Z"
   },
   {
    "duration": 11,
    "start_time": "2024-10-23T22:01:48.600Z"
   },
   {
    "duration": 14,
    "start_time": "2024-10-23T22:02:09.859Z"
   },
   {
    "duration": 15,
    "start_time": "2024-10-23T22:02:16.924Z"
   },
   {
    "duration": 16,
    "start_time": "2024-10-23T22:02:27.958Z"
   },
   {
    "duration": 10,
    "start_time": "2024-10-23T22:02:34.877Z"
   },
   {
    "duration": 13,
    "start_time": "2024-10-23T22:04:11.016Z"
   },
   {
    "duration": 16,
    "start_time": "2024-10-23T22:05:59.574Z"
   },
   {
    "duration": 10,
    "start_time": "2024-10-23T22:07:35.850Z"
   },
   {
    "duration": 9,
    "start_time": "2024-10-23T22:07:52.308Z"
   },
   {
    "duration": 12,
    "start_time": "2024-10-23T22:08:10.816Z"
   },
   {
    "duration": 14,
    "start_time": "2024-10-23T22:08:36.690Z"
   },
   {
    "duration": 12,
    "start_time": "2024-10-23T22:08:45.936Z"
   },
   {
    "duration": 13,
    "start_time": "2024-10-23T22:08:55.794Z"
   },
   {
    "duration": 18,
    "start_time": "2024-10-23T22:12:57.240Z"
   },
   {
    "duration": 16,
    "start_time": "2024-10-23T22:13:10.529Z"
   },
   {
    "duration": 7,
    "start_time": "2024-10-23T22:13:50.370Z"
   },
   {
    "duration": 6,
    "start_time": "2024-10-23T22:14:10.068Z"
   },
   {
    "duration": 9,
    "start_time": "2024-10-23T22:14:17.432Z"
   },
   {
    "duration": 6,
    "start_time": "2024-10-23T22:14:52.691Z"
   },
   {
    "duration": 8,
    "start_time": "2024-10-23T23:30:28.762Z"
   },
   {
    "duration": 3,
    "start_time": "2024-10-23T23:50:25.291Z"
   },
   {
    "duration": 861,
    "start_time": "2024-10-24T00:00:45.830Z"
   },
   {
    "duration": 409,
    "start_time": "2024-10-24T00:00:46.694Z"
   },
   {
    "duration": 16,
    "start_time": "2024-10-24T00:00:47.105Z"
   },
   {
    "duration": 16,
    "start_time": "2024-10-24T00:00:47.124Z"
   },
   {
    "duration": 29,
    "start_time": "2024-10-24T00:00:47.142Z"
   },
   {
    "duration": 45,
    "start_time": "2024-10-24T00:00:47.173Z"
   },
   {
    "duration": 148,
    "start_time": "2024-10-24T00:00:47.221Z"
   },
   {
    "duration": 6,
    "start_time": "2024-10-24T00:00:47.371Z"
   },
   {
    "duration": 35,
    "start_time": "2024-10-24T00:00:47.379Z"
   },
   {
    "duration": 119,
    "start_time": "2024-10-24T00:00:47.418Z"
   },
   {
    "duration": 23,
    "start_time": "2024-10-24T00:00:47.539Z"
   },
   {
    "duration": 10,
    "start_time": "2024-10-24T00:00:47.564Z"
   },
   {
    "duration": 41,
    "start_time": "2024-10-24T00:00:47.576Z"
   },
   {
    "duration": 13,
    "start_time": "2024-10-24T00:00:47.619Z"
   },
   {
    "duration": 8,
    "start_time": "2024-10-24T00:00:47.634Z"
   },
   {
    "duration": 11,
    "start_time": "2024-10-24T00:00:47.645Z"
   },
   {
    "duration": 5,
    "start_time": "2024-10-24T00:00:47.658Z"
   },
   {
    "duration": 148,
    "start_time": "2024-10-24T00:00:47.665Z"
   },
   {
    "duration": 151,
    "start_time": "2024-10-24T00:00:47.815Z"
   },
   {
    "duration": 13,
    "start_time": "2024-10-24T00:00:47.968Z"
   },
   {
    "duration": 286,
    "start_time": "2024-10-24T00:00:47.983Z"
   },
   {
    "duration": 165,
    "start_time": "2024-10-24T00:00:48.271Z"
   },
   {
    "duration": 7,
    "start_time": "2024-10-24T00:00:48.438Z"
   },
   {
    "duration": 16,
    "start_time": "2024-10-24T00:00:48.447Z"
   },
   {
    "duration": 15,
    "start_time": "2024-10-24T00:00:48.465Z"
   },
   {
    "duration": 40,
    "start_time": "2024-10-24T00:00:48.481Z"
   },
   {
    "duration": 2717,
    "start_time": "2024-11-07T21:07:40.697Z"
   },
   {
    "duration": 491,
    "start_time": "2024-11-07T21:07:43.417Z"
   },
   {
    "duration": 16,
    "start_time": "2024-11-07T21:07:43.910Z"
   },
   {
    "duration": 17,
    "start_time": "2024-11-07T21:07:43.928Z"
   },
   {
    "duration": 51,
    "start_time": "2024-11-07T21:07:43.947Z"
   },
   {
    "duration": 12,
    "start_time": "2024-11-07T21:07:44.000Z"
   },
   {
    "duration": 109,
    "start_time": "2024-11-07T21:07:44.014Z"
   },
   {
    "duration": 6,
    "start_time": "2024-11-07T21:07:44.125Z"
   },
   {
    "duration": 7,
    "start_time": "2024-11-07T21:07:44.132Z"
   },
   {
    "duration": 121,
    "start_time": "2024-11-07T21:07:44.142Z"
   },
   {
    "duration": 49,
    "start_time": "2024-11-07T21:07:44.265Z"
   },
   {
    "duration": 12,
    "start_time": "2024-11-07T21:07:44.316Z"
   },
   {
    "duration": 21,
    "start_time": "2024-11-07T21:07:44.330Z"
   },
   {
    "duration": 28,
    "start_time": "2024-11-07T21:07:44.353Z"
   },
   {
    "duration": 14,
    "start_time": "2024-11-07T21:07:44.383Z"
   },
   {
    "duration": 13,
    "start_time": "2024-11-07T21:07:44.403Z"
   },
   {
    "duration": 6,
    "start_time": "2024-11-07T21:07:44.418Z"
   },
   {
    "duration": 129,
    "start_time": "2024-11-07T21:07:44.426Z"
   },
   {
    "duration": 102,
    "start_time": "2024-11-07T21:07:44.557Z"
   },
   {
    "duration": 38,
    "start_time": "2024-11-07T21:07:44.661Z"
   },
   {
    "duration": 289,
    "start_time": "2024-11-07T21:07:44.700Z"
   },
   {
    "duration": 164,
    "start_time": "2024-11-07T21:07:44.994Z"
   },
   {
    "duration": 71,
    "start_time": "2024-11-07T21:07:45.160Z"
   },
   {
    "duration": 17,
    "start_time": "2024-11-07T21:07:45.234Z"
   },
   {
    "duration": 44,
    "start_time": "2024-11-07T21:07:45.253Z"
   },
   {
    "duration": 16,
    "start_time": "2024-11-07T21:07:45.299Z"
   },
   {
    "duration": 2,
    "start_time": "2024-11-07T21:08:05.947Z"
   },
   {
    "duration": 809,
    "start_time": "2024-11-07T21:08:10.768Z"
   },
   {
    "duration": 432,
    "start_time": "2024-11-07T21:08:11.579Z"
   },
   {
    "duration": 16,
    "start_time": "2024-11-07T21:08:12.014Z"
   },
   {
    "duration": 16,
    "start_time": "2024-11-07T21:08:12.032Z"
   },
   {
    "duration": 48,
    "start_time": "2024-11-07T21:08:12.050Z"
   },
   {
    "duration": 13,
    "start_time": "2024-11-07T21:08:12.101Z"
   },
   {
    "duration": 174,
    "start_time": "2024-11-07T21:08:12.115Z"
   },
   {
    "duration": 7,
    "start_time": "2024-11-07T21:08:12.310Z"
   },
   {
    "duration": 8,
    "start_time": "2024-11-07T21:08:12.318Z"
   },
   {
    "duration": 112,
    "start_time": "2024-11-07T21:08:12.329Z"
   },
   {
    "duration": 52,
    "start_time": "2024-11-07T21:08:12.443Z"
   },
   {
    "duration": 11,
    "start_time": "2024-11-07T21:08:12.497Z"
   },
   {
    "duration": 17,
    "start_time": "2024-11-07T21:08:12.510Z"
   },
   {
    "duration": 16,
    "start_time": "2024-11-07T21:08:12.528Z"
   },
   {
    "duration": 8,
    "start_time": "2024-11-07T21:08:12.546Z"
   },
   {
    "duration": 43,
    "start_time": "2024-11-07T21:08:12.555Z"
   },
   {
    "duration": 7,
    "start_time": "2024-11-07T21:08:12.599Z"
   },
   {
    "duration": 119,
    "start_time": "2024-11-07T21:08:12.608Z"
   },
   {
    "duration": 164,
    "start_time": "2024-11-07T21:08:12.728Z"
   },
   {
    "duration": 16,
    "start_time": "2024-11-07T21:08:12.895Z"
   },
   {
    "duration": 291,
    "start_time": "2024-11-07T21:08:12.913Z"
   },
   {
    "duration": 184,
    "start_time": "2024-11-07T21:08:13.207Z"
   },
   {
    "duration": 7,
    "start_time": "2024-11-07T21:08:13.393Z"
   },
   {
    "duration": 21,
    "start_time": "2024-11-07T21:08:13.402Z"
   },
   {
    "duration": 17,
    "start_time": "2024-11-07T21:08:13.425Z"
   },
   {
    "duration": 36,
    "start_time": "2024-11-07T21:08:13.444Z"
   },
   {
    "duration": 2,
    "start_time": "2024-11-07T21:08:30.563Z"
   },
   {
    "duration": 794,
    "start_time": "2024-11-07T21:08:34.991Z"
   },
   {
    "duration": 443,
    "start_time": "2024-11-07T21:08:35.787Z"
   },
   {
    "duration": 15,
    "start_time": "2024-11-07T21:08:36.232Z"
   },
   {
    "duration": 48,
    "start_time": "2024-11-07T21:08:36.249Z"
   },
   {
    "duration": 28,
    "start_time": "2024-11-07T21:08:36.300Z"
   },
   {
    "duration": 23,
    "start_time": "2024-11-07T21:08:36.330Z"
   },
   {
    "duration": 138,
    "start_time": "2024-11-07T21:08:36.355Z"
   },
   {
    "duration": 5,
    "start_time": "2024-11-07T21:08:36.500Z"
   },
   {
    "duration": 6,
    "start_time": "2024-11-07T21:08:36.506Z"
   },
   {
    "duration": 125,
    "start_time": "2024-11-07T21:08:36.514Z"
   },
   {
    "duration": 26,
    "start_time": "2024-11-07T21:08:36.640Z"
   },
   {
    "duration": 15,
    "start_time": "2024-11-07T21:08:36.667Z"
   },
   {
    "duration": 22,
    "start_time": "2024-11-07T21:08:36.684Z"
   },
   {
    "duration": 14,
    "start_time": "2024-11-07T21:08:36.710Z"
   },
   {
    "duration": 8,
    "start_time": "2024-11-07T21:08:36.725Z"
   },
   {
    "duration": 14,
    "start_time": "2024-11-07T21:08:36.734Z"
   },
   {
    "duration": 15,
    "start_time": "2024-11-07T21:08:36.770Z"
   },
   {
    "duration": 127,
    "start_time": "2024-11-07T21:08:36.787Z"
   },
   {
    "duration": 166,
    "start_time": "2024-11-07T21:08:36.915Z"
   },
   {
    "duration": 23,
    "start_time": "2024-11-07T21:08:37.083Z"
   },
   {
    "duration": 299,
    "start_time": "2024-11-07T21:08:37.107Z"
   },
   {
    "duration": 169,
    "start_time": "2024-11-07T21:08:37.408Z"
   },
   {
    "duration": 6,
    "start_time": "2024-11-07T21:08:37.579Z"
   },
   {
    "duration": 264,
    "start_time": "2024-11-07T21:08:37.587Z"
   },
   {
    "duration": 0,
    "start_time": "2024-11-07T21:08:37.853Z"
   },
   {
    "duration": 0,
    "start_time": "2024-11-07T21:08:37.854Z"
   },
   {
    "duration": 5,
    "start_time": "2024-11-07T21:08:53.291Z"
   },
   {
    "duration": 799,
    "start_time": "2024-11-07T21:08:57.753Z"
   },
   {
    "duration": 441,
    "start_time": "2024-11-07T21:08:58.555Z"
   },
   {
    "duration": 16,
    "start_time": "2024-11-07T21:08:58.998Z"
   },
   {
    "duration": 17,
    "start_time": "2024-11-07T21:08:59.016Z"
   },
   {
    "duration": 49,
    "start_time": "2024-11-07T21:08:59.036Z"
   },
   {
    "duration": 13,
    "start_time": "2024-11-07T21:08:59.095Z"
   },
   {
    "duration": 123,
    "start_time": "2024-11-07T21:08:59.109Z"
   },
   {
    "duration": 5,
    "start_time": "2024-11-07T21:08:59.234Z"
   },
   {
    "duration": 5,
    "start_time": "2024-11-07T21:08:59.241Z"
   },
   {
    "duration": 133,
    "start_time": "2024-11-07T21:08:59.248Z"
   },
   {
    "duration": 25,
    "start_time": "2024-11-07T21:08:59.399Z"
   },
   {
    "duration": 11,
    "start_time": "2024-11-07T21:08:59.426Z"
   },
   {
    "duration": 18,
    "start_time": "2024-11-07T21:08:59.439Z"
   },
   {
    "duration": 35,
    "start_time": "2024-11-07T21:08:59.460Z"
   },
   {
    "duration": 8,
    "start_time": "2024-11-07T21:08:59.498Z"
   },
   {
    "duration": 12,
    "start_time": "2024-11-07T21:08:59.508Z"
   },
   {
    "duration": 6,
    "start_time": "2024-11-07T21:08:59.522Z"
   },
   {
    "duration": 120,
    "start_time": "2024-11-07T21:08:59.530Z"
   },
   {
    "duration": 169,
    "start_time": "2024-11-07T21:08:59.652Z"
   },
   {
    "duration": 11,
    "start_time": "2024-11-07T21:08:59.823Z"
   },
   {
    "duration": 292,
    "start_time": "2024-11-07T21:08:59.836Z"
   },
   {
    "duration": 175,
    "start_time": "2024-11-07T21:09:00.130Z"
   },
   {
    "duration": 6,
    "start_time": "2024-11-07T21:09:00.307Z"
   },
   {
    "duration": 16,
    "start_time": "2024-11-07T21:09:00.315Z"
   },
   {
    "duration": 48,
    "start_time": "2024-11-07T21:09:00.333Z"
   },
   {
    "duration": 17,
    "start_time": "2024-11-07T21:09:00.398Z"
   },
   {
    "duration": 868,
    "start_time": "2024-11-07T21:10:15.819Z"
   },
   {
    "duration": 459,
    "start_time": "2024-11-07T21:10:16.690Z"
   },
   {
    "duration": 26,
    "start_time": "2024-11-07T21:10:17.151Z"
   },
   {
    "duration": 34,
    "start_time": "2024-11-07T21:10:17.187Z"
   },
   {
    "duration": 26,
    "start_time": "2024-11-07T21:10:17.223Z"
   },
   {
    "duration": 13,
    "start_time": "2024-11-07T21:10:17.250Z"
   },
   {
    "duration": 126,
    "start_time": "2024-11-07T21:10:17.265Z"
   },
   {
    "duration": 8,
    "start_time": "2024-11-07T21:10:17.395Z"
   },
   {
    "duration": 7,
    "start_time": "2024-11-07T21:10:17.404Z"
   },
   {
    "duration": 118,
    "start_time": "2024-11-07T21:10:17.413Z"
   },
   {
    "duration": 25,
    "start_time": "2024-11-07T21:10:17.533Z"
   },
   {
    "duration": 43,
    "start_time": "2024-11-07T21:10:17.559Z"
   },
   {
    "duration": 17,
    "start_time": "2024-11-07T21:10:17.604Z"
   },
   {
    "duration": 13,
    "start_time": "2024-11-07T21:10:17.623Z"
   },
   {
    "duration": 7,
    "start_time": "2024-11-07T21:10:17.638Z"
   },
   {
    "duration": 14,
    "start_time": "2024-11-07T21:10:17.647Z"
   },
   {
    "duration": 28,
    "start_time": "2024-11-07T21:10:17.662Z"
   },
   {
    "duration": 118,
    "start_time": "2024-11-07T21:10:17.694Z"
   },
   {
    "duration": 176,
    "start_time": "2024-11-07T21:10:17.813Z"
   },
   {
    "duration": 11,
    "start_time": "2024-11-07T21:10:17.998Z"
   },
   {
    "duration": 289,
    "start_time": "2024-11-07T21:10:18.010Z"
   },
   {
    "duration": 162,
    "start_time": "2024-11-07T21:10:18.301Z"
   },
   {
    "duration": 32,
    "start_time": "2024-11-07T21:10:18.465Z"
   },
   {
    "duration": 18,
    "start_time": "2024-11-07T21:10:18.499Z"
   },
   {
    "duration": 14,
    "start_time": "2024-11-07T21:10:18.519Z"
   },
   {
    "duration": 15,
    "start_time": "2024-11-07T21:10:18.535Z"
   }
  ],
  "kernelspec": {
   "display_name": "Python 3 (ipykernel)",
   "language": "python",
   "name": "python3"
  },
  "language_info": {
   "codemirror_mode": {
    "name": "ipython",
    "version": 3
   },
   "file_extension": ".py",
   "mimetype": "text/x-python",
   "name": "python",
   "nbconvert_exporter": "python",
   "pygments_lexer": "ipython3",
   "version": "3.9.19"
  },
  "toc": {
   "base_numbering": 1,
   "nav_menu": {},
   "number_sections": true,
   "sideBar": true,
   "skip_h1_title": true,
   "title_cell": "Tabla de contenidos",
   "title_sidebar": "Contenidos",
   "toc_cell": true,
   "toc_position": {
    "height": "calc(100% - 180px)",
    "left": "10px",
    "top": "150px",
    "width": "380.797px"
   },
   "toc_section_display": true,
   "toc_window_display": true
  }
 },
 "nbformat": 4,
 "nbformat_minor": 2
}
